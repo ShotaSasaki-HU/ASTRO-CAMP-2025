{
  "nbformat": 4,
  "nbformat_minor": 0,
  "metadata": {
    "colab": {
      "provenance": [],
      "toc_visible": true,
      "authorship_tag": "ABX9TyNJjIDIQL85EroGKhmHDZgQ",
      "include_colab_link": true
    },
    "kernelspec": {
      "name": "python3",
      "display_name": "Python 3"
    },
    "language_info": {
      "name": "python"
    }
  },
  "cells": [
    {
      "cell_type": "markdown",
      "metadata": {
        "id": "view-in-github",
        "colab_type": "text"
      },
      "source": [
        "<a href=\"https://colab.research.google.com/github/ShotaSasaki-HU/ASTRO-CAMP-2025/blob/main/sarimax.ipynb\" target=\"_parent\"><img src=\"https://colab.research.google.com/assets/colab-badge.svg\" alt=\"Open In Colab\"/></a>"
      ]
    },
    {
      "cell_type": "markdown",
      "source": [
        "# ライブラリ"
      ],
      "metadata": {
        "id": "5fw7eRGvehR3"
      }
    },
    {
      "cell_type": "code",
      "execution_count": 75,
      "metadata": {
        "id": "uCjPfpWmd4Xu",
        "colab": {
          "base_uri": "https://localhost:8080/"
        },
        "outputId": "28b669fa-614a-4a95-ba14-e496216c797d"
      },
      "outputs": [
        {
          "output_type": "stream",
          "name": "stdout",
          "text": [
            "Requirement already satisfied: japanize-matplotlib in /usr/local/lib/python3.12/dist-packages (1.1.3)\n",
            "Requirement already satisfied: matplotlib in /usr/local/lib/python3.12/dist-packages (from japanize-matplotlib) (3.10.0)\n",
            "Requirement already satisfied: contourpy>=1.0.1 in /usr/local/lib/python3.12/dist-packages (from matplotlib->japanize-matplotlib) (1.3.3)\n",
            "Requirement already satisfied: cycler>=0.10 in /usr/local/lib/python3.12/dist-packages (from matplotlib->japanize-matplotlib) (0.12.1)\n",
            "Requirement already satisfied: fonttools>=4.22.0 in /usr/local/lib/python3.12/dist-packages (from matplotlib->japanize-matplotlib) (4.59.2)\n",
            "Requirement already satisfied: kiwisolver>=1.3.1 in /usr/local/lib/python3.12/dist-packages (from matplotlib->japanize-matplotlib) (1.4.9)\n",
            "Requirement already satisfied: numpy>=1.23 in /usr/local/lib/python3.12/dist-packages (from matplotlib->japanize-matplotlib) (2.0.2)\n",
            "Requirement already satisfied: packaging>=20.0 in /usr/local/lib/python3.12/dist-packages (from matplotlib->japanize-matplotlib) (25.0)\n",
            "Requirement already satisfied: pillow>=8 in /usr/local/lib/python3.12/dist-packages (from matplotlib->japanize-matplotlib) (11.3.0)\n",
            "Requirement already satisfied: pyparsing>=2.3.1 in /usr/local/lib/python3.12/dist-packages (from matplotlib->japanize-matplotlib) (3.2.3)\n",
            "Requirement already satisfied: python-dateutil>=2.7 in /usr/local/lib/python3.12/dist-packages (from matplotlib->japanize-matplotlib) (2.9.0.post0)\n",
            "Requirement already satisfied: six>=1.5 in /usr/local/lib/python3.12/dist-packages (from python-dateutil>=2.7->matplotlib->japanize-matplotlib) (1.17.0)\n"
          ]
        }
      ],
      "source": [
        "import pandas as pd\n",
        "import numpy as np\n",
        "import statsmodels.api as sm\n",
        "import datetime as dt\n",
        "import ee\n",
        "from tqdm import tqdm # 進捗表示用\n",
        "import matplotlib.pyplot as plt\n",
        "import matplotlib.dates as mdates\n",
        "!pip install japanize-matplotlib\n",
        "import japanize_matplotlib\n",
        "import itertools\n",
        "import pytz\n"
      ]
    },
    {
      "cell_type": "markdown",
      "source": [
        "# Google Driveのマウント"
      ],
      "metadata": {
        "id": "czBnocYkYZDR"
      }
    },
    {
      "cell_type": "code",
      "source": [
        "from google.colab import drive\n",
        "drive.mount('/content/drive')"
      ],
      "metadata": {
        "colab": {
          "base_uri": "https://localhost:8080/"
        },
        "id": "-j9_zKEoWi7W",
        "outputId": "8b8407f5-55d6-4ca5-fc38-f6aa55109690"
      },
      "execution_count": 76,
      "outputs": [
        {
          "output_type": "stream",
          "name": "stdout",
          "text": [
            "Drive already mounted at /content/drive; to attempt to forcibly remount, call drive.mount(\"/content/drive\", force_remount=True).\n"
          ]
        }
      ]
    },
    {
      "cell_type": "markdown",
      "source": [
        "# データ準備"
      ],
      "metadata": {
        "id": "pYG5NGjghOjT"
      }
    },
    {
      "cell_type": "markdown",
      "source": [
        "## 目的変数（誘殺数）"
      ],
      "metadata": {
        "id": "tY881QGmhRGE"
      }
    },
    {
      "cell_type": "markdown",
      "source": [
        "### 5年間の時系列化"
      ],
      "metadata": {
        "id": "R5DYn94tzDuS"
      }
    },
    {
      "cell_type": "code",
      "source": [
        "all_years = []\n",
        "\n",
        "for year in range(2020, 2024 + 1):\n",
        "    # セジロウンカ\n",
        "    path = f\"https://github.com/ShotaSasaki-HU/ASTRO-CAMP-2025/raw/refs/heads/main/data/%E9%A6%99%E5%B7%9D%E7%9C%8C%E8%BE%B2%E6%A5%AD%E8%A9%A6%E9%A8%93%E5%A0%B4%E7%97%85%E5%AE%B3%E8%99%AB%E9%98%B2%E9%99%A4%E6%89%80_%E6%A5%AD%E5%8B%99%E5%B9%B4%E5%A0%B1_%E5%90%84%E3%82%A4%E3%83%8D%E3%82%A6%E3%83%B3%E3%82%AB%E9%A1%9E%E3%81%AE%E6%97%A5%E5%88%A5%E8%AA%98%E6%AE%BA%E6%95%B0/%E3%82%BB%E3%82%B8%E3%83%AD%E3%82%A6%E3%83%B3%E3%82%AB%E6%97%A5%E5%88%A5%E8%AA%98%E6%AE%BA%E6%95%B0_{year}.csv\"\n",
        "    df_year = pd.read_csv(path, encoding=\"utf-8\", header=0)\n",
        "    df_year.drop('Unnamed: 0', axis=1, inplace=True)\n",
        "\n",
        "    # 「欠測」を0と見做す\n",
        "    df_year.replace('欠測', 0, inplace=True)\n",
        "\n",
        "    # メスとオスの和\n",
        "    for month in range(4, 11 + 1):\n",
        "        df_year[f'{month}月'] = df_year[f'{month}月_メス'].astype('float64') + df_year[f'{month}月_オス'].astype('float64') # NaNを扱うためにfloat\n",
        "        df_year.drop([f'{month}月_メス', f'{month}月_オス'], axis=1, inplace=True)\n",
        "\n",
        "    # 縦持ちへ変換\n",
        "    df_year = df_year.melt(\n",
        "        id_vars=['日'], # そのまま残る列\n",
        "        value_vars=['4月', '5月', '6月', '7月', '8月', '9月', '10月', '11月'], # 値となる列\n",
        "        var_name='月', # 新しい列名\n",
        "        value_name='kill_score'\n",
        "        )\n",
        "\n",
        "    # 「西向く侍」のNaN値を排除\n",
        "    df_year.dropna(inplace=True)\n",
        "\n",
        "    # '月'を数値化\n",
        "    df_year['月'] = df_year['月'].str.replace('月', '').astype(int)\n",
        "\n",
        "    # datetime生成\n",
        "    df_year['date'] = pd.to_datetime({\n",
        "        'year': year,\n",
        "        'month': df_year['月'],\n",
        "        'day': df_year['日'].astype(int)\n",
        "    }, errors='raise')\n",
        "    df_year = df_year.sort_values('date').reset_index(drop=True) # 時系列順にソート\n",
        "\n",
        "    df_year = df_year[['date', 'kill_score']]\n",
        "    all_years.append(df_year)\n",
        "\n",
        "# 5年分を結合\n",
        "df_resp = pd.concat(all_years, ignore_index=True)\n",
        "df_resp['kill_score'] = df_resp['kill_score'].astype(int)\n",
        "\n",
        "print(df_resp)\n"
      ],
      "metadata": {
        "colab": {
          "base_uri": "https://localhost:8080/"
        },
        "id": "ZdP4G1KEhOP0",
        "outputId": "393ee76f-2752-48c3-ad62-c6683008d20d"
      },
      "execution_count": 77,
      "outputs": [
        {
          "output_type": "stream",
          "name": "stdout",
          "text": [
            "           date  kill_score\n",
            "0    2020-04-01           0\n",
            "1    2020-04-02           0\n",
            "2    2020-04-03           0\n",
            "3    2020-04-04           0\n",
            "4    2020-04-05           0\n",
            "...         ...         ...\n",
            "1215 2024-11-26           0\n",
            "1216 2024-11-27           0\n",
            "1217 2024-11-28           0\n",
            "1218 2024-11-29           0\n",
            "1219 2024-11-30           0\n",
            "\n",
            "[1220 rows x 2 columns]\n"
          ]
        }
      ]
    },
    {
      "cell_type": "markdown",
      "source": [
        "### 月半旬（5日ごと）でグループ化\n",
        "pandas.DataFrame.resampleを使う手もある．"
      ],
      "metadata": {
        "id": "NfAHgyFu0pe8"
      }
    },
    {
      "cell_type": "code",
      "source": [
        "df_resp['year'] = df_resp['date'].dt.year\n",
        "df_resp['month'] = df_resp['date'].dt.month\n",
        "df_resp['day'] = df_resp['date'].dt.day\n",
        "\n",
        "df_resp['hanjun'] = pd.cut(\n",
        "    df_resp['day'],\n",
        "    bins=[0, 5, 10, 15, 20, 25, 31], # 区切り\n",
        "    labels=[1, 6, 11, 16, 21, 26]    # 月半旬開始日\n",
        ")\n",
        "\n",
        "df_resp['hanjun_start'] = pd.to_datetime({\n",
        "    'year': df_resp['year'],\n",
        "    'month': df_resp['month'],\n",
        "    'day': df_resp['hanjun']\n",
        "}, errors='raise')\n",
        "df_resp = df_resp.sort_values('hanjun_start').reset_index(drop=True) # 時系列順にソート\n",
        "\n",
        "df_resp = df_resp.groupby(['hanjun_start'], as_index=False)['kill_score'].sum()\n",
        "\n",
        "print(df_resp)\n"
      ],
      "metadata": {
        "colab": {
          "base_uri": "https://localhost:8080/"
        },
        "id": "CeDHcJkZ0zRR",
        "outputId": "15cb8521-76ea-4e48-b8aa-99ff50708205"
      },
      "execution_count": 78,
      "outputs": [
        {
          "output_type": "stream",
          "name": "stdout",
          "text": [
            "    hanjun_start  kill_score\n",
            "0     2020-04-01           0\n",
            "1     2020-04-06           0\n",
            "2     2020-04-11           0\n",
            "3     2020-04-16           0\n",
            "4     2020-04-21           0\n",
            "..           ...         ...\n",
            "235   2024-11-06           0\n",
            "236   2024-11-11           0\n",
            "237   2024-11-16           0\n",
            "238   2024-11-21           0\n",
            "239   2024-11-26           0\n",
            "\n",
            "[240 rows x 2 columns]\n"
          ]
        }
      ]
    },
    {
      "cell_type": "markdown",
      "source": [
        "## 説明変数"
      ],
      "metadata": {
        "id": "6ix5X7LZhZ-N"
      }
    },
    {
      "cell_type": "markdown",
      "source": [
        "### Google Earth Engineの認証"
      ],
      "metadata": {
        "id": "UfOTLgyW7WF-"
      }
    },
    {
      "cell_type": "code",
      "source": [
        "ee.Authenticate() # Colabではブラウザで認証を行う\n",
        "ee.Initialize(project='astro-camp')\n",
        "# ee.Initialize(project='my-project-astrocamp')\n"
      ],
      "metadata": {
        "id": "bUbptZkshcKD"
      },
      "execution_count": 79,
      "outputs": []
    },
    {
      "cell_type": "markdown",
      "source": [
        "### １．積算温度"
      ],
      "metadata": {
        "id": "kJVWnma_Bnkd"
      }
    },
    {
      "cell_type": "markdown",
      "source": [
        "#### CSV生成\n",
        "CSVを作成済みの場合は，このセルをスキップする．"
      ],
      "metadata": {
        "id": "AXlgyUfmMqGB"
      }
    },
    {
      "cell_type": "code",
      "source": [
        "\"\"\"\n",
        "aoi = ee.Geometry.Rectangle([100, 15, 115, 30])\n",
        "developmental_zero = 12.0 # 発育下限温度（発育零点）\n",
        "PERIOD_DAYS = 5\n",
        "\n",
        "# 指定された期間の積算温度を計算する関数\n",
        "def get_degree_days_for_period(start_date, end_date):\n",
        "    ee_start_date = ee.Date(start_date.strftime('%Y-%m-%d'))\n",
        "    ee_end_date = ee.Date(end_date.strftime('%Y-%m-%d'))\n",
        "    days_in_period = ee_end_date.difference(ee_start_date, 'day')\n",
        "\n",
        "    # 指定した月半旬のMODIS画像コレクションを取得\n",
        "    collection = ee.ImageCollection('MODIS/061/MOD11A1').filterDate(ee_start_date, ee_end_date)\n",
        "\n",
        "    # --- ここからが積算温度の計算部分 ---\n",
        "\n",
        "    # 期間内の画像枚数をサーバーサイドでカウント\n",
        "    image_count = collection.size()\n",
        "\n",
        "    # 画像が1枚以上ある場合の関数\n",
        "    def calculate_stats(img_collection):\n",
        "        # 日々の積算温度を計算する関数\n",
        "        def calculate_degree_days(image):\n",
        "            # LSTバンドを選択し，スケール変換と単位変換（ケルビン -> 摂氏）．\n",
        "            temp_celsius = image.select('LST_Day_1km').multiply(0.02).subtract(273.15)\n",
        "            # (気温 - 基準温度) を計算．結果がマイナスなら0にする．\n",
        "            degree_day = temp_celsius.subtract(developmental_zero).max(0)\n",
        "            return degree_day\n",
        "\n",
        "        # コレクション内の各画像（各日）に対して上記の関数を適用\n",
        "        daily_degree_days = collection.map(calculate_degree_days)\n",
        "\n",
        "        # 期間内の日平均積算温度を計算し、期間の日数を掛けて正規化\n",
        "        total_degree_days_image = daily_degree_days.mean().multiply(days_in_period).rename('Degree_Days')\n",
        "\n",
        "        # AOI内の平均値を計算\n",
        "        stats = total_degree_days_image.reduceRegion(\n",
        "            reducer=ee.Reducer.mean(),\n",
        "            geometry=aoi,\n",
        "            scale=1000,\n",
        "            maxPixels=1e9\n",
        "        )\n",
        "        return stats\n",
        "\n",
        "    # 画像が0枚だった場合の関数\n",
        "    def empty_case():\n",
        "        return ee.Dictionary({'Degree_Days': None})\n",
        "\n",
        "    # image_count > 0 の条件で分岐を実行\n",
        "    # ee.Algorithms.If(condition, true_case, false_case)\n",
        "    # greater than(0)\n",
        "    stats = ee.Dictionary(ee.Algorithms.If(image_count.gt(0), calculate_stats(collection), empty_case()))\n",
        "\n",
        "    return stats.getInfo().get('Degree_Days')\n",
        "\n",
        "lagged_features = [] # 遅延した特徴量たち\n",
        "dd_cache = {} # 計算結果を保存するキャッシュ用の辞書\n",
        "\n",
        "for index, row in tqdm(df_resp.iterrows(), total=df_resp.shape[0], desc=\"積算温度を計算中\"):\n",
        "    current_start = row['hanjun_start']\n",
        "\n",
        "    row_features = {} # 計算結果を格納する辞書\n",
        "    row_features['hanjun_start'] = current_start\n",
        "\n",
        "    # 1半旬前から3半旬前までをループ処理\n",
        "    for lag in range(1, 3 + 1):\n",
        "        start_lag = current_start - pd.Timedelta(days=PERIOD_DAYS * lag)\n",
        "        end_lag = current_start - pd.Timedelta(days=PERIOD_DAYS * (lag - 1))\n",
        "\n",
        "        # キャッシュキーを作成\n",
        "        cache_key = start_lag.strftime('%Y-%m-%d')\n",
        "\n",
        "        # キャッシュの確認\n",
        "        if cache_key in dd_cache:\n",
        "            # キャッシュがある場合\n",
        "            dd_value = dd_cache[cache_key]\n",
        "        else:\n",
        "            # キャッシュが無い場合\n",
        "            dd_value = get_degree_days_for_period(start_lag, end_lag)\n",
        "            dd_cache[cache_key] = dd_value\n",
        "\n",
        "        row_features[f'積算温度_{lag}半旬前'] = dd_value\n",
        "\n",
        "    lagged_features.append(row_features)\n",
        "\n",
        "# 計算結果のリストを新しいデータフレームに変換\n",
        "df_degree_days = pd.DataFrame(lagged_features)\n",
        "\n",
        "# NaN値の線形補間を実行（月半旬が短いためデータが無い場合あり）\n",
        "df_degree_days.interpolate(method='linear', inplace=True)\n",
        "\n",
        "aoi_info = aoi.getInfo()\n",
        "coords = aoi_info['coordinates'][0]\n",
        "min_lon = coords[0][0]\n",
        "min_lat = coords[0][1]\n",
        "max_lon = coords[2][0]\n",
        "max_lat = coords[2][1]\n",
        "file_name = f\"df_degree_days_[{min_lon}, {min_lat}, {max_lon}, {max_lat}].csv\"\n",
        "df_degree_days.to_csv(file_name)\n",
        "\n",
        "df_degree_days\n",
        "\"\"\"\n"
      ],
      "metadata": {
        "colab": {
          "base_uri": "https://localhost:8080/",
          "height": 196
        },
        "id": "G6pfwsUqBrmB",
        "outputId": "e0c9dd67-bc74-4b8c-cc0d-759c39055919"
      },
      "execution_count": 60,
      "outputs": [
        {
          "output_type": "execute_result",
          "data": {
            "text/plain": [
              "'\\naoi = ee.Geometry.Rectangle([100, 15, 115, 30])\\ndevelopmental_zero = 12.0 # 発育下限温度（発育零点）\\nPERIOD_DAYS = 5\\n\\n# 指定された期間の積算温度を計算する関数\\ndef get_degree_days_for_period(start_date, end_date):\\n    ee_start_date = ee.Date(start_date.strftime(\\'%Y-%m-%d\\'))\\n    ee_end_date = ee.Date(end_date.strftime(\\'%Y-%m-%d\\'))\\n    days_in_period = ee_end_date.difference(ee_start_date, \\'day\\')\\n\\n    # 指定した月半旬のMODIS画像コレクションを取得\\n    collection = ee.ImageCollection(\\'MODIS/061/MOD11A1\\').filterDate(ee_start_date, ee_end_date)\\n    \\n    # --- ここからが積算温度の計算部分 ---\\n\\n    # 期間内の画像枚数をサーバーサイドでカウント\\n    image_count = collection.size()\\n\\n    # 画像が1枚以上ある場合の関数\\n    def calculate_stats(img_collection):\\n        # 日々の積算温度を計算する関数\\n        def calculate_degree_days(image):\\n            # LSTバンドを選択し，スケール変換と単位変換（ケルビン -> 摂氏）．\\n            temp_celsius = image.select(\\'LST_Day_1km\\').multiply(0.02).subtract(273.15)\\n            # (気温 - 基準温度) を計算．結果がマイナスなら0にする．\\n            degree_day = temp_celsius.subtract(developmental_zero).max(0)\\n            return degree_day\\n\\n        # コレクション内の各画像（各日）に対して上記の関数を適用\\n        daily_degree_days = collection.map(calculate_degree_days)\\n\\n        # 期間内の日平均積算温度を計算し、期間の日数を掛けて正規化\\n        total_degree_days_image = daily_degree_days.mean().multiply(days_in_period).rename(\\'Degree_Days\\')\\n\\n        # AOI内の平均値を計算\\n        stats = total_degree_days_image.reduceRegion(\\n            reducer=ee.Reducer.mean(),\\n            geometry=aoi,\\n            scale=1000,\\n            maxPixels=1e9\\n        )\\n        return stats\\n    \\n    # 画像が0枚だった場合の関数\\n    def empty_case():\\n        return ee.Dictionary({\\'Degree_Days\\': None})\\n\\n    # image_count > 0 の条件で分岐を実行\\n    # ee.Algorithms.If(condition, true_case, false_case)\\n    # greater than(0)\\n    stats = ee.Dictionary(ee.Algorithms.If(image_count.gt(0), calculate_stats(collection), empty_case()))\\n    \\n    return stats.getInfo().get(\\'Degree_Days\\')\\n\\nlagged_features = [] # 遅延した特徴量たち\\ndd_cache = {} # 計算結果を保存するキャッシュ用の辞書\\n\\nfor index, row in tqdm(df_resp.iterrows(), total=df_resp.shape[0], desc=\"積算温度を計算中\"):\\n    current_start = row[\\'hanjun_start\\']\\n\\n    row_features = {} # 計算結果を格納する辞書\\n    row_features[\\'hanjun_start\\'] = current_start\\n\\n    # 1半旬前から3半旬前までをループ処理\\n    for lag in range(1, 3 + 1):\\n        start_lag = current_start - pd.Timedelta(days=PERIOD_DAYS * lag)\\n        end_lag = current_start - pd.Timedelta(days=PERIOD_DAYS * (lag - 1))\\n\\n        # キャッシュキーを作成\\n        cache_key = start_lag.strftime(\\'%Y-%m-%d\\')\\n\\n        # キャッシュの確認\\n        if cache_key in dd_cache:\\n            # キャッシュがある場合\\n            dd_value = dd_cache[cache_key]\\n        else:\\n            # キャッシュが無い場合\\n            dd_value = get_degree_days_for_period(start_lag, end_lag)\\n            dd_cache[cache_key] = dd_value\\n        \\n        row_features[f\\'積算温度_{lag}半旬前\\'] = dd_value\\n    \\n    lagged_features.append(row_features)\\n\\n# 計算結果のリストを新しいデータフレームに変換\\ndf_degree_days = pd.DataFrame(lagged_features)\\n\\n# NaN値の線形補間を実行（月半旬が短いためデータが無い場合あり）\\ndf_degree_days.interpolate(method=\\'linear\\', inplace=True)\\n\\naoi_info = aoi.getInfo()\\ncoords = aoi_info[\\'coordinates\\'][0]\\nmin_lon = coords[0][0]\\nmin_lat = coords[0][1]\\nmax_lon = coords[2][0]\\nmax_lat = coords[2][1]\\nfile_name = f\"df_degree_days_[{min_lon}, {min_lat}, {max_lon}, {max_lat}].csv\"\\ndf_degree_days.to_csv(file_name)\\n\\ndf_degree_days\\n'"
            ],
            "application/vnd.google.colaboratory.intrinsic+json": {
              "type": "string"
            }
          },
          "metadata": {},
          "execution_count": 60
        }
      ]
    },
    {
      "cell_type": "markdown",
      "source": [
        "#### CSV読み込み"
      ],
      "metadata": {
        "id": "VdfNeu4-MvuZ"
      }
    },
    {
      "cell_type": "code",
      "source": [
        "path = \"https://raw.githubusercontent.com/ShotaSasaki-HU/ASTRO-CAMP-2025/refs/heads/main/data/df_degree_days_%5B100%2C%2015%2C%20115%2C%2030%5D.csv\"\n",
        "df_degree_days = pd.read_csv(path, encoding=\"utf-8\", header=0)\n",
        "df_degree_days.drop('Unnamed: 0', axis=1, inplace=True)\n",
        "df_degree_days['hanjun_start'] = pd.to_datetime(df_degree_days['hanjun_start'], errors=\"raise\")\n",
        "\n",
        "df_degree_days\n"
      ],
      "metadata": {
        "colab": {
          "base_uri": "https://localhost:8080/",
          "height": 424
        },
        "id": "IO6q2S76Mxbt",
        "outputId": "ef9f3207-5ef7-44f7-c8b1-4338e28be279"
      },
      "execution_count": 80,
      "outputs": [
        {
          "output_type": "execute_result",
          "data": {
            "text/plain": [
              "    hanjun_start  積算温度_1半旬前  積算温度_2半旬前  積算温度_3半旬前\n",
              "0     2020-04-01  86.550977  75.531730  66.304770\n",
              "1     2020-04-06  84.196312  86.550977  75.531730\n",
              "2     2020-04-11  68.900737  84.196312  86.550977\n",
              "3     2020-04-16  65.811132  68.900737  84.196312\n",
              "4     2020-04-21  85.812071  65.811132  68.900737\n",
              "..           ...        ...        ...        ...\n",
              "235   2024-11-06  48.702089  47.952729  49.192877\n",
              "236   2024-11-11  45.161967  48.702089  47.952729\n",
              "237   2024-11-16  53.456676  45.161967  48.702089\n",
              "238   2024-11-21  52.410584  53.456676  45.161967\n",
              "239   2024-11-26  40.296603  52.410584  53.456676\n",
              "\n",
              "[240 rows x 4 columns]"
            ],
            "text/html": [
              "\n",
              "  <div id=\"df-351a39d2-8128-4938-ac90-672e4ec3c683\" class=\"colab-df-container\">\n",
              "    <div>\n",
              "<style scoped>\n",
              "    .dataframe tbody tr th:only-of-type {\n",
              "        vertical-align: middle;\n",
              "    }\n",
              "\n",
              "    .dataframe tbody tr th {\n",
              "        vertical-align: top;\n",
              "    }\n",
              "\n",
              "    .dataframe thead th {\n",
              "        text-align: right;\n",
              "    }\n",
              "</style>\n",
              "<table border=\"1\" class=\"dataframe\">\n",
              "  <thead>\n",
              "    <tr style=\"text-align: right;\">\n",
              "      <th></th>\n",
              "      <th>hanjun_start</th>\n",
              "      <th>積算温度_1半旬前</th>\n",
              "      <th>積算温度_2半旬前</th>\n",
              "      <th>積算温度_3半旬前</th>\n",
              "    </tr>\n",
              "  </thead>\n",
              "  <tbody>\n",
              "    <tr>\n",
              "      <th>0</th>\n",
              "      <td>2020-04-01</td>\n",
              "      <td>86.550977</td>\n",
              "      <td>75.531730</td>\n",
              "      <td>66.304770</td>\n",
              "    </tr>\n",
              "    <tr>\n",
              "      <th>1</th>\n",
              "      <td>2020-04-06</td>\n",
              "      <td>84.196312</td>\n",
              "      <td>86.550977</td>\n",
              "      <td>75.531730</td>\n",
              "    </tr>\n",
              "    <tr>\n",
              "      <th>2</th>\n",
              "      <td>2020-04-11</td>\n",
              "      <td>68.900737</td>\n",
              "      <td>84.196312</td>\n",
              "      <td>86.550977</td>\n",
              "    </tr>\n",
              "    <tr>\n",
              "      <th>3</th>\n",
              "      <td>2020-04-16</td>\n",
              "      <td>65.811132</td>\n",
              "      <td>68.900737</td>\n",
              "      <td>84.196312</td>\n",
              "    </tr>\n",
              "    <tr>\n",
              "      <th>4</th>\n",
              "      <td>2020-04-21</td>\n",
              "      <td>85.812071</td>\n",
              "      <td>65.811132</td>\n",
              "      <td>68.900737</td>\n",
              "    </tr>\n",
              "    <tr>\n",
              "      <th>...</th>\n",
              "      <td>...</td>\n",
              "      <td>...</td>\n",
              "      <td>...</td>\n",
              "      <td>...</td>\n",
              "    </tr>\n",
              "    <tr>\n",
              "      <th>235</th>\n",
              "      <td>2024-11-06</td>\n",
              "      <td>48.702089</td>\n",
              "      <td>47.952729</td>\n",
              "      <td>49.192877</td>\n",
              "    </tr>\n",
              "    <tr>\n",
              "      <th>236</th>\n",
              "      <td>2024-11-11</td>\n",
              "      <td>45.161967</td>\n",
              "      <td>48.702089</td>\n",
              "      <td>47.952729</td>\n",
              "    </tr>\n",
              "    <tr>\n",
              "      <th>237</th>\n",
              "      <td>2024-11-16</td>\n",
              "      <td>53.456676</td>\n",
              "      <td>45.161967</td>\n",
              "      <td>48.702089</td>\n",
              "    </tr>\n",
              "    <tr>\n",
              "      <th>238</th>\n",
              "      <td>2024-11-21</td>\n",
              "      <td>52.410584</td>\n",
              "      <td>53.456676</td>\n",
              "      <td>45.161967</td>\n",
              "    </tr>\n",
              "    <tr>\n",
              "      <th>239</th>\n",
              "      <td>2024-11-26</td>\n",
              "      <td>40.296603</td>\n",
              "      <td>52.410584</td>\n",
              "      <td>53.456676</td>\n",
              "    </tr>\n",
              "  </tbody>\n",
              "</table>\n",
              "<p>240 rows × 4 columns</p>\n",
              "</div>\n",
              "    <div class=\"colab-df-buttons\">\n",
              "\n",
              "  <div class=\"colab-df-container\">\n",
              "    <button class=\"colab-df-convert\" onclick=\"convertToInteractive('df-351a39d2-8128-4938-ac90-672e4ec3c683')\"\n",
              "            title=\"Convert this dataframe to an interactive table.\"\n",
              "            style=\"display:none;\">\n",
              "\n",
              "  <svg xmlns=\"http://www.w3.org/2000/svg\" height=\"24px\" viewBox=\"0 -960 960 960\">\n",
              "    <path d=\"M120-120v-720h720v720H120Zm60-500h600v-160H180v160Zm220 220h160v-160H400v160Zm0 220h160v-160H400v160ZM180-400h160v-160H180v160Zm440 0h160v-160H620v160ZM180-180h160v-160H180v160Zm440 0h160v-160H620v160Z\"/>\n",
              "  </svg>\n",
              "    </button>\n",
              "\n",
              "  <style>\n",
              "    .colab-df-container {\n",
              "      display:flex;\n",
              "      gap: 12px;\n",
              "    }\n",
              "\n",
              "    .colab-df-convert {\n",
              "      background-color: #E8F0FE;\n",
              "      border: none;\n",
              "      border-radius: 50%;\n",
              "      cursor: pointer;\n",
              "      display: none;\n",
              "      fill: #1967D2;\n",
              "      height: 32px;\n",
              "      padding: 0 0 0 0;\n",
              "      width: 32px;\n",
              "    }\n",
              "\n",
              "    .colab-df-convert:hover {\n",
              "      background-color: #E2EBFA;\n",
              "      box-shadow: 0px 1px 2px rgba(60, 64, 67, 0.3), 0px 1px 3px 1px rgba(60, 64, 67, 0.15);\n",
              "      fill: #174EA6;\n",
              "    }\n",
              "\n",
              "    .colab-df-buttons div {\n",
              "      margin-bottom: 4px;\n",
              "    }\n",
              "\n",
              "    [theme=dark] .colab-df-convert {\n",
              "      background-color: #3B4455;\n",
              "      fill: #D2E3FC;\n",
              "    }\n",
              "\n",
              "    [theme=dark] .colab-df-convert:hover {\n",
              "      background-color: #434B5C;\n",
              "      box-shadow: 0px 1px 3px 1px rgba(0, 0, 0, 0.15);\n",
              "      filter: drop-shadow(0px 1px 2px rgba(0, 0, 0, 0.3));\n",
              "      fill: #FFFFFF;\n",
              "    }\n",
              "  </style>\n",
              "\n",
              "    <script>\n",
              "      const buttonEl =\n",
              "        document.querySelector('#df-351a39d2-8128-4938-ac90-672e4ec3c683 button.colab-df-convert');\n",
              "      buttonEl.style.display =\n",
              "        google.colab.kernel.accessAllowed ? 'block' : 'none';\n",
              "\n",
              "      async function convertToInteractive(key) {\n",
              "        const element = document.querySelector('#df-351a39d2-8128-4938-ac90-672e4ec3c683');\n",
              "        const dataTable =\n",
              "          await google.colab.kernel.invokeFunction('convertToInteractive',\n",
              "                                                    [key], {});\n",
              "        if (!dataTable) return;\n",
              "\n",
              "        const docLinkHtml = 'Like what you see? Visit the ' +\n",
              "          '<a target=\"_blank\" href=https://colab.research.google.com/notebooks/data_table.ipynb>data table notebook</a>'\n",
              "          + ' to learn more about interactive tables.';\n",
              "        element.innerHTML = '';\n",
              "        dataTable['output_type'] = 'display_data';\n",
              "        await google.colab.output.renderOutput(dataTable, element);\n",
              "        const docLink = document.createElement('div');\n",
              "        docLink.innerHTML = docLinkHtml;\n",
              "        element.appendChild(docLink);\n",
              "      }\n",
              "    </script>\n",
              "  </div>\n",
              "\n",
              "\n",
              "    <div id=\"df-1f92b145-41bf-4128-83b3-beefd53611c3\">\n",
              "      <button class=\"colab-df-quickchart\" onclick=\"quickchart('df-1f92b145-41bf-4128-83b3-beefd53611c3')\"\n",
              "                title=\"Suggest charts\"\n",
              "                style=\"display:none;\">\n",
              "\n",
              "<svg xmlns=\"http://www.w3.org/2000/svg\" height=\"24px\"viewBox=\"0 0 24 24\"\n",
              "     width=\"24px\">\n",
              "    <g>\n",
              "        <path d=\"M19 3H5c-1.1 0-2 .9-2 2v14c0 1.1.9 2 2 2h14c1.1 0 2-.9 2-2V5c0-1.1-.9-2-2-2zM9 17H7v-7h2v7zm4 0h-2V7h2v10zm4 0h-2v-4h2v4z\"/>\n",
              "    </g>\n",
              "</svg>\n",
              "      </button>\n",
              "\n",
              "<style>\n",
              "  .colab-df-quickchart {\n",
              "      --bg-color: #E8F0FE;\n",
              "      --fill-color: #1967D2;\n",
              "      --hover-bg-color: #E2EBFA;\n",
              "      --hover-fill-color: #174EA6;\n",
              "      --disabled-fill-color: #AAA;\n",
              "      --disabled-bg-color: #DDD;\n",
              "  }\n",
              "\n",
              "  [theme=dark] .colab-df-quickchart {\n",
              "      --bg-color: #3B4455;\n",
              "      --fill-color: #D2E3FC;\n",
              "      --hover-bg-color: #434B5C;\n",
              "      --hover-fill-color: #FFFFFF;\n",
              "      --disabled-bg-color: #3B4455;\n",
              "      --disabled-fill-color: #666;\n",
              "  }\n",
              "\n",
              "  .colab-df-quickchart {\n",
              "    background-color: var(--bg-color);\n",
              "    border: none;\n",
              "    border-radius: 50%;\n",
              "    cursor: pointer;\n",
              "    display: none;\n",
              "    fill: var(--fill-color);\n",
              "    height: 32px;\n",
              "    padding: 0;\n",
              "    width: 32px;\n",
              "  }\n",
              "\n",
              "  .colab-df-quickchart:hover {\n",
              "    background-color: var(--hover-bg-color);\n",
              "    box-shadow: 0 1px 2px rgba(60, 64, 67, 0.3), 0 1px 3px 1px rgba(60, 64, 67, 0.15);\n",
              "    fill: var(--button-hover-fill-color);\n",
              "  }\n",
              "\n",
              "  .colab-df-quickchart-complete:disabled,\n",
              "  .colab-df-quickchart-complete:disabled:hover {\n",
              "    background-color: var(--disabled-bg-color);\n",
              "    fill: var(--disabled-fill-color);\n",
              "    box-shadow: none;\n",
              "  }\n",
              "\n",
              "  .colab-df-spinner {\n",
              "    border: 2px solid var(--fill-color);\n",
              "    border-color: transparent;\n",
              "    border-bottom-color: var(--fill-color);\n",
              "    animation:\n",
              "      spin 1s steps(1) infinite;\n",
              "  }\n",
              "\n",
              "  @keyframes spin {\n",
              "    0% {\n",
              "      border-color: transparent;\n",
              "      border-bottom-color: var(--fill-color);\n",
              "      border-left-color: var(--fill-color);\n",
              "    }\n",
              "    20% {\n",
              "      border-color: transparent;\n",
              "      border-left-color: var(--fill-color);\n",
              "      border-top-color: var(--fill-color);\n",
              "    }\n",
              "    30% {\n",
              "      border-color: transparent;\n",
              "      border-left-color: var(--fill-color);\n",
              "      border-top-color: var(--fill-color);\n",
              "      border-right-color: var(--fill-color);\n",
              "    }\n",
              "    40% {\n",
              "      border-color: transparent;\n",
              "      border-right-color: var(--fill-color);\n",
              "      border-top-color: var(--fill-color);\n",
              "    }\n",
              "    60% {\n",
              "      border-color: transparent;\n",
              "      border-right-color: var(--fill-color);\n",
              "    }\n",
              "    80% {\n",
              "      border-color: transparent;\n",
              "      border-right-color: var(--fill-color);\n",
              "      border-bottom-color: var(--fill-color);\n",
              "    }\n",
              "    90% {\n",
              "      border-color: transparent;\n",
              "      border-bottom-color: var(--fill-color);\n",
              "    }\n",
              "  }\n",
              "</style>\n",
              "\n",
              "      <script>\n",
              "        async function quickchart(key) {\n",
              "          const quickchartButtonEl =\n",
              "            document.querySelector('#' + key + ' button');\n",
              "          quickchartButtonEl.disabled = true;  // To prevent multiple clicks.\n",
              "          quickchartButtonEl.classList.add('colab-df-spinner');\n",
              "          try {\n",
              "            const charts = await google.colab.kernel.invokeFunction(\n",
              "                'suggestCharts', [key], {});\n",
              "          } catch (error) {\n",
              "            console.error('Error during call to suggestCharts:', error);\n",
              "          }\n",
              "          quickchartButtonEl.classList.remove('colab-df-spinner');\n",
              "          quickchartButtonEl.classList.add('colab-df-quickchart-complete');\n",
              "        }\n",
              "        (() => {\n",
              "          let quickchartButtonEl =\n",
              "            document.querySelector('#df-1f92b145-41bf-4128-83b3-beefd53611c3 button');\n",
              "          quickchartButtonEl.style.display =\n",
              "            google.colab.kernel.accessAllowed ? 'block' : 'none';\n",
              "        })();\n",
              "      </script>\n",
              "    </div>\n",
              "\n",
              "  <div id=\"id_81d805ea-0930-4906-b90f-7b4b79a8df3d\">\n",
              "    <style>\n",
              "      .colab-df-generate {\n",
              "        background-color: #E8F0FE;\n",
              "        border: none;\n",
              "        border-radius: 50%;\n",
              "        cursor: pointer;\n",
              "        display: none;\n",
              "        fill: #1967D2;\n",
              "        height: 32px;\n",
              "        padding: 0 0 0 0;\n",
              "        width: 32px;\n",
              "      }\n",
              "\n",
              "      .colab-df-generate:hover {\n",
              "        background-color: #E2EBFA;\n",
              "        box-shadow: 0px 1px 2px rgba(60, 64, 67, 0.3), 0px 1px 3px 1px rgba(60, 64, 67, 0.15);\n",
              "        fill: #174EA6;\n",
              "      }\n",
              "\n",
              "      [theme=dark] .colab-df-generate {\n",
              "        background-color: #3B4455;\n",
              "        fill: #D2E3FC;\n",
              "      }\n",
              "\n",
              "      [theme=dark] .colab-df-generate:hover {\n",
              "        background-color: #434B5C;\n",
              "        box-shadow: 0px 1px 3px 1px rgba(0, 0, 0, 0.15);\n",
              "        filter: drop-shadow(0px 1px 2px rgba(0, 0, 0, 0.3));\n",
              "        fill: #FFFFFF;\n",
              "      }\n",
              "    </style>\n",
              "    <button class=\"colab-df-generate\" onclick=\"generateWithVariable('df_degree_days')\"\n",
              "            title=\"Generate code using this dataframe.\"\n",
              "            style=\"display:none;\">\n",
              "\n",
              "  <svg xmlns=\"http://www.w3.org/2000/svg\" height=\"24px\"viewBox=\"0 0 24 24\"\n",
              "       width=\"24px\">\n",
              "    <path d=\"M7,19H8.4L18.45,9,17,7.55,7,17.6ZM5,21V16.75L18.45,3.32a2,2,0,0,1,2.83,0l1.4,1.43a1.91,1.91,0,0,1,.58,1.4,1.91,1.91,0,0,1-.58,1.4L9.25,21ZM18.45,9,17,7.55Zm-12,3A5.31,5.31,0,0,0,4.9,8.1,5.31,5.31,0,0,0,1,6.5,5.31,5.31,0,0,0,4.9,4.9,5.31,5.31,0,0,0,6.5,1,5.31,5.31,0,0,0,8.1,4.9,5.31,5.31,0,0,0,12,6.5,5.46,5.46,0,0,0,6.5,12Z\"/>\n",
              "  </svg>\n",
              "    </button>\n",
              "    <script>\n",
              "      (() => {\n",
              "      const buttonEl =\n",
              "        document.querySelector('#id_81d805ea-0930-4906-b90f-7b4b79a8df3d button.colab-df-generate');\n",
              "      buttonEl.style.display =\n",
              "        google.colab.kernel.accessAllowed ? 'block' : 'none';\n",
              "\n",
              "      buttonEl.onclick = () => {\n",
              "        google.colab.notebook.generateWithVariable('df_degree_days');\n",
              "      }\n",
              "      })();\n",
              "    </script>\n",
              "  </div>\n",
              "\n",
              "    </div>\n",
              "  </div>\n"
            ],
            "application/vnd.google.colaboratory.intrinsic+json": {
              "type": "dataframe",
              "variable_name": "df_degree_days",
              "summary": "{\n  \"name\": \"df_degree_days\",\n  \"rows\": 240,\n  \"fields\": [\n    {\n      \"column\": \"hanjun_start\",\n      \"properties\": {\n        \"dtype\": \"date\",\n        \"min\": \"2020-04-01 00:00:00\",\n        \"max\": \"2024-11-26 00:00:00\",\n        \"num_unique_values\": 240,\n        \"samples\": [\n          \"2020-08-01 00:00:00\",\n          \"2020-05-01 00:00:00\",\n          \"2021-11-16 00:00:00\"\n        ],\n        \"semantic_type\": \"\",\n        \"description\": \"\"\n      }\n    },\n    {\n      \"column\": \"\\u7a4d\\u7b97\\u6e29\\u5ea6_1\\u534a\\u65ec\\u524d\",\n      \"properties\": {\n        \"dtype\": \"number\",\n        \"std\": 13.37728251601806,\n        \"min\": 35.85991946164625,\n        \"max\": 103.71979451969317,\n        \"num_unique_values\": 240,\n        \"samples\": [\n          81.62904415584015,\n          81.2978688511716,\n          41.19983869502607\n        ],\n        \"semantic_type\": \"\",\n        \"description\": \"\"\n      }\n    },\n    {\n      \"column\": \"\\u7a4d\\u7b97\\u6e29\\u5ea6_2\\u534a\\u65ec\\u524d\",\n      \"properties\": {\n        \"dtype\": \"number\",\n        \"std\": 12.72340161997442,\n        \"min\": 35.85991946164625,\n        \"max\": 103.71979451969317,\n        \"num_unique_values\": 240,\n        \"samples\": [\n          85.86450328741255,\n          87.35414882369511,\n          38.28333960244372\n        ],\n        \"semantic_type\": \"\",\n        \"description\": \"\"\n      }\n    },\n    {\n      \"column\": \"\\u7a4d\\u7b97\\u6e29\\u5ea6_3\\u534a\\u65ec\\u524d\",\n      \"properties\": {\n        \"dtype\": \"number\",\n        \"std\": 12.22325663691931,\n        \"min\": 38.28333960244372,\n        \"max\": 103.71979451969317,\n        \"num_unique_values\": 240,\n        \"samples\": [\n          87.79619192262965,\n          85.81207084098979,\n          58.00343376881903\n        ],\n        \"semantic_type\": \"\",\n        \"description\": \"\"\n      }\n    }\n  ]\n}"
            }
          },
          "metadata": {},
          "execution_count": 80
        }
      ]
    },
    {
      "cell_type": "markdown",
      "source": [
        "## 目的変数と説明変数の統合"
      ],
      "metadata": {
        "id": "SHVGqXXwdX04"
      }
    },
    {
      "cell_type": "code",
      "source": [
        "# 正解データdf_respをベースにする．\n",
        "df = df_resp.copy()\n",
        "\n",
        "df = df.merge(df_degree_days, on='hanjun_start', how='left')\n",
        "\n",
        "print(df)\n"
      ],
      "metadata": {
        "colab": {
          "base_uri": "https://localhost:8080/"
        },
        "id": "yfksq3HRda-a",
        "outputId": "0a52a573-a613-48c9-e447-695d0692e53a"
      },
      "execution_count": 81,
      "outputs": [
        {
          "output_type": "stream",
          "name": "stdout",
          "text": [
            "    hanjun_start  kill_score  積算温度_1半旬前  積算温度_2半旬前  積算温度_3半旬前\n",
            "0     2020-04-01           0  86.550977  75.531730  66.304770\n",
            "1     2020-04-06           0  84.196312  86.550977  75.531730\n",
            "2     2020-04-11           0  68.900737  84.196312  86.550977\n",
            "3     2020-04-16           0  65.811132  68.900737  84.196312\n",
            "4     2020-04-21           0  85.812071  65.811132  68.900737\n",
            "..           ...         ...        ...        ...        ...\n",
            "235   2024-11-06           0  48.702089  47.952729  49.192877\n",
            "236   2024-11-11           0  45.161967  48.702089  47.952729\n",
            "237   2024-11-16           0  53.456676  45.161967  48.702089\n",
            "238   2024-11-21           0  52.410584  53.456676  45.161967\n",
            "239   2024-11-26           0  40.296603  52.410584  53.456676\n",
            "\n",
            "[240 rows x 5 columns]\n"
          ]
        }
      ]
    },
    {
      "cell_type": "markdown",
      "source": [
        "### 冬の誘殺数を0埋めで生成（1月〜3月，12月）\n",
        "★冬の体裁を整えなければならない理由は，まだ理解できていない．\n",
        "\n",
        "冬の説明変数を取得すること自体は可能だが，今回は0埋めする．（アプローチB）\n",
        "\n",
        "| アプローチ | 思想・目的 | モデルが学習すること | 長所 | 短所 |\n",
        "| - | - | - | - | - |\n",
        "| A：真の値を取得 | 「冬の環境」をありのままモデルに与える。 | ・「気温が5℃でNDVIが0.2の時は、誘殺数は0になる」という具体的な関係。<br>・冬の気象と「0」の間の強い相関。 | ・入力データが全て「真実」であるため、誠実なアプローチ。 | ・モデルが簡単な「冬=0」の予測に過剰適合し、夏の複雑な予測への学習が疎かになる恐れ（信号の希釈）。<br>・冬の各変数間の多重共線性も問題になりうる。 |\n",
        "| B：0で埋める（推奨） | 「冬」という期間を「活動休止を示すベースライン=0」としてモデルに教える。 | ・「説明変数が全て0の時は、誘殺数は0になる」というシンプルなルール。<br>・説明変数が0から動き始めた時に、誘殺数がどう変化するか。 | ・モデルが「活動期」と「休止期」を明確に区別できる。<br>・各説明変数の係数が「活動期における影響度」をより純粋に表現するようになるため、モデルの解釈が容易になる。 | ・冬の期間の実際の気象データを捨てている。 |\n",
        "\n",
        "> あなたのモデルの最終目的は、「冬の誘殺数が0であること」を当てることではなく、「夏の活動期間中の誘殺数の変動を、環境データからいかに正確に予測できるか」です。<br><br>\n",
        "アプローチB（0埋め）は、モデルに対してこう伝えているのと同じです。<br>\n",
        "「普段（冬）、全ての値は0です。これが平常状態です。しかし、春になり、積算温度やNDVIの値が0から増加し始めたら、注意してください。これらの値がどう動くかによって、夏の誘殺数が決まります。」<br><br>\n",
        "つまり、説明変数を0埋めするのは、「冬の環境を正確に再現する」ことよりも、「モデルが夏の被害を予測するという本質的なタスクに集中できるような、理想的な入力データを作ってあげる」という目的を優先した、戦略的な判断なのです。<br><br>\n",
        "これは時系列分析、特にオン/オフがはっきりしている季節性データを扱う際の、非常に一般的で効果的なテクニックです。"
      ],
      "metadata": {
        "id": "0oNWLOnkkhpu"
      }
    },
    {
      "cell_type": "code",
      "source": [
        "# 1. 2020〜2024年の全ての「月半旬」の日付リストを生成\n",
        "full_hanjun_dates = []\n",
        "for year in range(2020, 2025):\n",
        "    for month in range(1, 13): # 1月〜12月\n",
        "        for day in [1, 6, 11, 16, 21, 26]:\n",
        "            full_hanjun_dates.append(pd.Timestamp(year=year, month=month, day=day))\n",
        "\n",
        "# 2. 全ての日付を持つ「テンプレート」データフレームを作成\n",
        "df_template = pd.DataFrame({'hanjun_start': full_hanjun_dates})\n",
        "\n",
        "# 3. テンプレートに元のデータを結合（'left' join）\n",
        "#   -> テンプレートの日付は全て残り、元のデータにない期間（冬）はNaNになる．\n",
        "df = pd.merge(df_template, df, on='hanjun_start', how='left')\n",
        "\n",
        "# 4. 全てのNaN値を0で埋める．\n",
        "df = df.fillna(0)\n",
        "\n",
        "df['kill_score'] = df['kill_score'].astype(int)\n",
        "print(df)\n"
      ],
      "metadata": {
        "colab": {
          "base_uri": "https://localhost:8080/"
        },
        "id": "uD2Limq7kqD8",
        "outputId": "b6ade764-8e55-42c6-ba7a-2a27b86994a6"
      },
      "execution_count": 82,
      "outputs": [
        {
          "output_type": "stream",
          "name": "stdout",
          "text": [
            "    hanjun_start  kill_score  積算温度_1半旬前  積算温度_2半旬前  積算温度_3半旬前\n",
            "0     2020-01-01           0        0.0        0.0        0.0\n",
            "1     2020-01-06           0        0.0        0.0        0.0\n",
            "2     2020-01-11           0        0.0        0.0        0.0\n",
            "3     2020-01-16           0        0.0        0.0        0.0\n",
            "4     2020-01-21           0        0.0        0.0        0.0\n",
            "..           ...         ...        ...        ...        ...\n",
            "355   2024-12-06           0        0.0        0.0        0.0\n",
            "356   2024-12-11           0        0.0        0.0        0.0\n",
            "357   2024-12-16           0        0.0        0.0        0.0\n",
            "358   2024-12-21           0        0.0        0.0        0.0\n",
            "359   2024-12-26           0        0.0        0.0        0.0\n",
            "\n",
            "[360 rows x 5 columns]\n"
          ]
        }
      ]
    },
    {
      "cell_type": "markdown",
      "source": [
        "### データの正規化（スキップ）"
      ],
      "metadata": {
        "id": "AcVmqlhiAxAy"
      }
    },
    {
      "cell_type": "code",
      "source": [
        "# MinMaxScalerなど？\n",
        "pass\n"
      ],
      "metadata": {
        "id": "8V2eWf3eAzyC"
      },
      "execution_count": 83,
      "outputs": []
    },
    {
      "cell_type": "markdown",
      "source": [
        "### 誘殺数の原系列を可視化"
      ],
      "metadata": {
        "id": "7SLWgdMe3aV2"
      }
    },
    {
      "cell_type": "code",
      "source": [
        "plt.figure(figsize=(12,6))\n",
        "plt.plot(df[\"hanjun_start\"], df[\"kill_score\"], label=\"kill_score\")\n",
        "\n",
        "# 月ごとに目盛りを表示\n",
        "plt.gca().xaxis.set_major_locator(mdates.MonthLocator(interval=4))  # 4ヶ月ごと\n",
        "plt.gca().xaxis.set_major_formatter(mdates.DateFormatter(\"%Y-%m\"))  # YYYY-MM 表記\n",
        "\n",
        "plt.title(\"綾川町（農業試験場内）の高圧水銀灯におけるセジロウンカ誘殺数の推移\")\n",
        "plt.xlabel(\"日付\")\n",
        "plt.ylabel(\"誘殺数（匹）\")\n",
        "plt.legend()\n",
        "plt.grid(True)\n",
        "plt.tight_layout()\n",
        "plt.show()\n"
      ],
      "metadata": {
        "colab": {
          "base_uri": "https://localhost:8080/",
          "height": 532
        },
        "id": "DV7WY6MY3k0V",
        "outputId": "293a290a-ed88-46f0-bd56-4bf5145ce79d"
      },
      "execution_count": 84,
      "outputs": [
        {
          "output_type": "display_data",
          "data": {
            "text/plain": [
              "<Figure size 1200x600 with 1 Axes>"
            ],
            "image/png": "[encoded data removed]"
          },
          "metadata": {}
        }
      ]
    },
    {
      "cell_type": "markdown",
      "source": [
        "# SARIMAXモデルが仮定する確率過程に誘殺数のデータが従うか確認\n",
        "仮定：誘殺数 = 短期の自己相関 + 長期のトレンド + 季節効果 + * + 誤差\n",
        "\n",
        "探索的データ解析（EDA）：データの特徴を探求し，構造を理解する作業のこと．"
      ],
      "metadata": {
        "id": "15p3lWC8_Z0Z"
      }
    },
    {
      "cell_type": "code",
      "source": [
        "pass"
      ],
      "metadata": {
        "id": "rvfhqwrwAIrv"
      },
      "execution_count": 85,
      "outputs": []
    },
    {
      "cell_type": "markdown",
      "source": [
        "# モデルの次数決定（パラメータ最適化）\n",
        "SARIMAXモデルは (p,d,q)(P,D,Q,s) というパラメータを持ちます。これを統計的な指標を基に決定します。\n",
        "\n",
        "- (p,d,q)：非季節性のトレンドに関するパラメータ (AR, I, MA)\n",
        "- (P,D,Q,s)：季節性に関するパラメータ (Seasonal AR, I, MA, Period)\n",
        "- s：季節性の周期。1年間の半旬の数 365日 / 5日 = 73 より、 s=73 とします。\n",
        "\n",
        "最適な組み合わせを見つけるために、AIC（赤池情報量規準）という指標が最も低いモデルを探すグリッドサーチを行います。"
      ],
      "metadata": {
        "id": "qfOZN6djfDYE"
      }
    },
    {
      "cell_type": "markdown",
      "source": [
        "## 学習データと検証データの分離"
      ],
      "metadata": {
        "id": "5Gj0fi6b8CIf"
      }
    },
    {
      "cell_type": "code",
      "source": [
        "df.set_index('hanjun_start', inplace=True)\n",
        "\n",
        "# 目的変数yと説明変数Xを定義\n",
        "y = df['kill_score']\n",
        "X = df[['積算温度_1半旬前', '積算温度_2半旬前', '積算温度_3半旬前']]\n",
        "\n",
        "# 学習データ（2020-2023）\n",
        "train_y = y[:'2023']\n",
        "train_X = X[:'2023']\n",
        "# 検証データ（2024年の活動期間）\n",
        "test_y = y.loc[(y.index.year == 2024) & (y.index.month.isin(range(4, 11+1)))]\n",
        "test_X = X.loc[(X.index.year == 2024) & (X.index.month.isin(range(4, 11+1)))]\n",
        "\n",
        "print(f\"学習データ期間: {train_y.index.min()} ~ {train_y.index.max()}\")\n",
        "print(f\"テストデータ期間: {test_y.index.min()} ~ {test_y.index.max()}\")\n"
      ],
      "metadata": {
        "colab": {
          "base_uri": "https://localhost:8080/"
        },
        "id": "0qogdE5DfHoU",
        "outputId": "dcc445a5-c26c-42ad-e54d-d3b6d3e2248e"
      },
      "execution_count": 74,
      "outputs": [
        {
          "output_type": "stream",
          "name": "stdout",
          "text": [
            "学習データ期間: 2020-01-01 00:00:00 ~ 2023-12-26 00:00:00\n",
            "テストデータ期間: 2024-04-01 00:00:00 ~ 2024-11-26 00:00:00\n"
          ]
        }
      ]
    },
    {
      "cell_type": "markdown",
      "source": [
        "## パラメータ推定（段階的な探索）\n",
        "ブルートフォースのグリッドサーチでは遅すぎるため，段階的なパラメータの推定に変更した．"
      ],
      "metadata": {
        "id": "Uicsz4tFBFbm"
      }
    },
    {
      "cell_type": "markdown",
      "source": [
        "### 差分次数(d, D)を先に決定\n",
        "時系列モデルは、平均が常に変動するようなトレンドを持つデータを苦手とします。そこで、差分をとることでトレンドをなくし、平均が一定のデータに変換します。\n",
        "\n",
        "- 通常の差分 (d): 「今日の値 - 昨日の値」を計算する操作。全体的な上昇・下降トレンドを除去します。\n",
        "- 季節差分 (D): 「今日の値 - 1年前の今日の値」を計算する操作。毎年繰り返される季節パターンを除去します。\n",
        "\n",
        "これを車の運転に例えると分かりやすいです。\n",
        "\n",
        "- 元のデータ = 車の位置（時間と共に進み続ける＝トレンドがある）\n",
        "- 1次差分 (d=1) = 車の速度（一定速度で走っていれば、速度は変動しない＝定常）\n",
        "- 2次差分 (d=2) = 車の加速度（速度が変化している場合に使う\n",
        "\n",
        "次に確認すべきは、「このグラフに、まだ全体的な上昇・下降トレンドが残っているか？」です。\n",
        "\n",
        "あなたのグラフを見る限り、データはy=0の水平線を中心に安定して推移しており、明確な上昇・下降トレンドは見当たりません。これは、季節差分を1回とるだけで、データがほぼ定常的な状態になったことを意味します。\n",
        "\n",
        "このことから、これ以上の通常の差分は不要と判断し、**d=0**と設定するのが妥当です。\n",
        "\n",
        "結論として、あなたのデータに最適な差分次数は d=0, D=1 と考えられます。\n",
        "\n",
        "そして、SARIMAXモデルのAR(p)やMA(q)といった部分は、まさにこの心電図のようなギザギザの中に隠れている微かなパターン（自己相関など）を見つけ出し、モデル化するためのものです。"
      ],
      "metadata": {
        "id": "Zl52UJ_xI0qj"
      }
    },
    {
      "cell_type": "code",
      "source": [
        "# 季節差分を適用してグラフを確認\n",
        "train_y.diff(73).plot(figsize=(12,4), title='1次季節階差 (D=1)')\n",
        "plt.grid()\n",
        "plt.show()\n"
      ],
      "metadata": {
        "colab": {
          "base_uri": "https://localhost:8080/",
          "height": 390
        },
        "id": "JzULjOEYI7MO",
        "outputId": "428bc9dd-650f-4f50-e0aa-0be547e8e0d7"
      },
      "execution_count": 68,
      "outputs": [
        {
          "output_type": "display_data",
          "data": {
            "text/plain": [
              "<Figure size 1200x400 with 1 Axes>"
            ],
            "image/png": "[encoded data removed]"
          },
          "metadata": {}
        }
      ]
    },
    {
      "cell_type": "markdown",
      "source": [
        "### 非季節性パラメータ(p, q)の探索\n",
        "次に、季節性の次数をシンプルな (0,1,0,73) に固定して、非季節性のパラメータ（p, d, q）だけのグリッドサーチを行います。これにより、計算が非常に高速になります。"
      ],
      "metadata": {
        "id": "X9Whqiy-MN1X"
      }
    },
    {
      "cell_type": "code",
      "source": [
        "# d=0, D=1 と仮定\n",
        "d = 0\n",
        "D = 1\n",
        "s = 73\n",
        "\n",
        "p = q = range(0, 3) # p,qの探索範囲を少し広げる\n",
        "pdq = list(itertools.product(p, [d], q))\n",
        "\n",
        "best_aic_pdq = np.inf\n",
        "best_pdq = None\n",
        "\n",
        "print(\"\\n--- 非季節性の次数(p,d,q)を探索します ---\")\n",
        "for param in pdq:\n",
        "    try:\n",
        "        mod = sm.tsa.statespace.SARIMAX(train_y,\n",
        "                                        exog=train_X,\n",
        "                                        order=param,\n",
        "                                        seasonal_order=(0, D, 0, s), # 季節性はシンプルに固定\n",
        "                                        enforce_stationarity=False,\n",
        "                                        enforce_invertibility=False)\n",
        "        results = mod.fit(disp=False)\n",
        "        if results.aic < best_aic_pdq:\n",
        "            best_aic_pdq = results.aic\n",
        "            best_pdq = param\n",
        "    except:\n",
        "        continue\n",
        "\n",
        "print(f'最も良い非季節性次数(p,d,q): {best_pdq} (AIC: {best_aic_pdq})')\n",
        "\n",
        "\"\"\"\n",
        "--- 非季節性の次数(p,d,q)を探索します ---\n",
        "/usr/local/lib/python3.12/dist-packages/statsmodels/base/model.py:607: ConvergenceWarning: Maximum Likelihood optimization failed to converge. Check mle_retvals\n",
        "  warnings.warn(\"Maximum Likelihood optimization failed to \"\n",
        "/usr/local/lib/python3.12/dist-packages/statsmodels/base/model.py:607: ConvergenceWarning: Maximum Likelihood optimization failed to converge. Check mle_retvals\n",
        "  warnings.warn(\"Maximum Likelihood optimization failed to \"\n",
        "最も良い非季節性次数(p,d,q): (2, 0, 2) (AIC: 2967.3686155103687)\n",
        "\"\"\"\n"
      ],
      "metadata": {
        "colab": {
          "base_uri": "https://localhost:8080/"
        },
        "id": "SsVRuDZyMS2Y",
        "outputId": "946bdd1c-310e-4d4f-a8ef-9498f0ed5673"
      },
      "execution_count": 12,
      "outputs": [
        {
          "output_type": "stream",
          "name": "stdout",
          "text": [
            "\n",
            "--- 非季節性の次数(p,d,q)を探索します ---\n"
          ]
        },
        {
          "output_type": "stream",
          "name": "stderr",
          "text": [
            "/usr/local/lib/python3.12/dist-packages/statsmodels/base/model.py:607: ConvergenceWarning: Maximum Likelihood optimization failed to converge. Check mle_retvals\n",
            "  warnings.warn(\"Maximum Likelihood optimization failed to \"\n",
            "/usr/local/lib/python3.12/dist-packages/statsmodels/base/model.py:607: ConvergenceWarning: Maximum Likelihood optimization failed to converge. Check mle_retvals\n",
            "  warnings.warn(\"Maximum Likelihood optimization failed to \"\n"
          ]
        },
        {
          "output_type": "stream",
          "name": "stdout",
          "text": [
            "最も良い非季節性次数(p,d,q): (2, 0, 2) (AIC: 2967.3686155103687)\n"
          ]
        }
      ]
    },
    {
      "cell_type": "markdown",
      "source": [
        "### 季節性パラメータ(P, Q)の探索\n",
        "前ステップで見つけた最適な (p,d,q) を固定し、季節性パラメータ（P, D, Q）だけを探索します。"
      ],
      "metadata": {
        "id": "kZHpCXXENzux"
      }
    },
    {
      "cell_type": "code",
      "source": [
        "# 前ステップで見つけたbest_pdqは固定\n",
        "P = Q = range(0, 2)\n",
        "seasonal_pdq_only = [(x[0], D, x[1], s) for x in list(itertools.product(P, Q))]\n",
        "\n",
        "best_aic_seasonal = np.inf\n",
        "best_seasonal_pdq = None\n",
        "\n",
        "print(\"\\n--- 季節性の次数(P,D,Q)を探索します ---\")\n",
        "for param_seasonal in seasonal_pdq_only:\n",
        "    try:\n",
        "        mod = sm.tsa.statespace.SARIMAX(train_y,\n",
        "                                        exog=train_X,\n",
        "                                        order=best_pdq, # 前ステップの結果で固定\n",
        "                                        seasonal_order=param_seasonal,\n",
        "                                        enforce_stationarity=False,\n",
        "                                        enforce_invertibility=False)\n",
        "        results = mod.fit(disp=False)\n",
        "        if results.aic < best_aic_seasonal:\n",
        "            best_aic_seasonal = results.aic\n",
        "            best_seasonal_pdq = param_seasonal\n",
        "    except:\n",
        "        continue\n",
        "\n",
        "print(f'最も良い季節性次数(P,D,Q,s): {best_seasonal_pdq} (AIC: {best_aic_seasonal})')\n",
        "\n",
        "# 10分強で完了\n",
        "\"\"\"\n",
        "--- 季節性の次数(P,D,Q)を探索します ---\n",
        "/usr/local/lib/python3.12/dist-packages/statsmodels/base/model.py:607: ConvergenceWarning: Maximum Likelihood optimization failed to converge. Check mle_retvals\n",
        "  warnings.warn(\"Maximum Likelihood optimization failed to \"\n",
        "/usr/local/lib/python3.12/dist-packages/statsmodels/tsa/statespace/sarimax.py:866: UserWarning: Too few observations to estimate starting parameters for seasonal ARMA. All parameters except for variances will be set to zeros.\n",
        "  warn('Too few observations to estimate starting parameters%s.'\n",
        "/usr/local/lib/python3.12/dist-packages/statsmodels/base/model.py:607: ConvergenceWarning: Maximum Likelihood optimization failed to converge. Check mle_retvals\n",
        "  warnings.warn(\"Maximum Likelihood optimization failed to \"\n",
        "/usr/local/lib/python3.12/dist-packages/statsmodels/base/model.py:607: ConvergenceWarning: Maximum Likelihood optimization failed to converge. Check mle_retvals\n",
        "  warnings.warn(\"Maximum Likelihood optimization failed to \"\n",
        "/usr/local/lib/python3.12/dist-packages/statsmodels/tsa/statespace/sarimax.py:866: UserWarning: Too few observations to estimate starting parameters for seasonal ARMA. All parameters except for variances will be set to zeros.\n",
        "  warn('Too few observations to estimate starting parameters%s.'\n",
        "/usr/local/lib/python3.12/dist-packages/statsmodels/base/model.py:607: ConvergenceWarning: Maximum Likelihood optimization failed to converge. Check mle_retvals\n",
        "  warnings.warn(\"Maximum Likelihood optimization failed to \"\n",
        "最も良い季節性次数(P,D,Q,s): (0, 1, 1, 73) (AIC: 1828.079270920107)\n",
        "\"\"\"\n"
      ],
      "metadata": {
        "colab": {
          "base_uri": "https://localhost:8080/"
        },
        "id": "kpA9U1RQN3WI",
        "outputId": "b2898a8b-cd15-47a3-9cc8-fc1a90d5776d"
      },
      "execution_count": 13,
      "outputs": [
        {
          "output_type": "stream",
          "name": "stdout",
          "text": [
            "\n",
            "--- 季節性の次数(P,D,Q)を探索します ---\n"
          ]
        },
        {
          "output_type": "stream",
          "name": "stderr",
          "text": [
            "/usr/local/lib/python3.12/dist-packages/statsmodels/base/model.py:607: ConvergenceWarning: Maximum Likelihood optimization failed to converge. Check mle_retvals\n",
            "  warnings.warn(\"Maximum Likelihood optimization failed to \"\n",
            "/usr/local/lib/python3.12/dist-packages/statsmodels/tsa/statespace/sarimax.py:866: UserWarning: Too few observations to estimate starting parameters for seasonal ARMA. All parameters except for variances will be set to zeros.\n",
            "  warn('Too few observations to estimate starting parameters%s.'\n",
            "/usr/local/lib/python3.12/dist-packages/statsmodels/base/model.py:607: ConvergenceWarning: Maximum Likelihood optimization failed to converge. Check mle_retvals\n",
            "  warnings.warn(\"Maximum Likelihood optimization failed to \"\n",
            "/usr/local/lib/python3.12/dist-packages/statsmodels/base/model.py:607: ConvergenceWarning: Maximum Likelihood optimization failed to converge. Check mle_retvals\n",
            "  warnings.warn(\"Maximum Likelihood optimization failed to \"\n",
            "/usr/local/lib/python3.12/dist-packages/statsmodels/tsa/statespace/sarimax.py:866: UserWarning: Too few observations to estimate starting parameters for seasonal ARMA. All parameters except for variances will be set to zeros.\n",
            "  warn('Too few observations to estimate starting parameters%s.'\n",
            "/usr/local/lib/python3.12/dist-packages/statsmodels/base/model.py:607: ConvergenceWarning: Maximum Likelihood optimization failed to converge. Check mle_retvals\n",
            "  warnings.warn(\"Maximum Likelihood optimization failed to \"\n"
          ]
        },
        {
          "output_type": "stream",
          "name": "stdout",
          "text": [
            "最も良い季節性次数(P,D,Q,s): (0, 1, 1, 73) (AIC: 1828.079270920107)\n"
          ]
        }
      ]
    },
    {
      "cell_type": "markdown",
      "source": [
        "### グリッドサーチの実行（スキップ）\n",
        "ブルートフォースでは遅すぎるため，前述の段階的なパラメータの推定に変更した．"
      ],
      "metadata": {
        "id": "weJJSgl4LWGj"
      }
    },
    {
      "cell_type": "code",
      "source": [
        "\"\"\"\n",
        "# パラメータの探索範囲を定義\n",
        "p = range(0, 2)\n",
        "d = range(0, 2)\n",
        "q = range(0, 2)\n",
        "pdq = list(itertools.product(p, d, q)) # 2 * 2 * 2 = 8通りの組み合わせ\n",
        "seasonal_pdq = [(x[0], x[1], x[2], 73) for x in list(itertools.product(\n",
        "    range(0, 2),\n",
        "    range(0, 2),\n",
        "    range(0, 2)\n",
        "    ))]\n",
        "\n",
        "best_aic = np.inf\n",
        "best_pdq = None\n",
        "best_seasonal_pdq = None\n",
        "\n",
        "print(\"\\n--- 最適なSARIMAXパラメータを探索します（学習データを使用） ---\")\n",
        "for param in pdq:\n",
        "    for param_seasonal in seasonal_pdq:\n",
        "        try:\n",
        "            mod = sm.tsa.statespace.SARIMAX(train_y,\n",
        "                                            exog=train_X,\n",
        "                                            order=param,\n",
        "                                            seasonal_order=param_seasonal,\n",
        "                                            enforce_stationarity=False,\n",
        "                                            enforce_invertibility=False)\n",
        "            results = mod.fit(disp=False)\n",
        "            if results.aic < best_aic:\n",
        "                best_aic = results.aic\n",
        "                best_pdq = param\n",
        "                best_seasonal_pdq = param_seasonal\n",
        "        except:\n",
        "            continue\n",
        "\n",
        "print(f'最も良いAIC: {best_aic}')\n",
        "print(f'最も良い次数: order={best_pdq}, seasonal_order={best_seasonal_pdq}')\n",
        "\"\"\"\n"
      ],
      "metadata": {
        "id": "ExH2FK9mBHXl"
      },
      "execution_count": null,
      "outputs": []
    },
    {
      "cell_type": "markdown",
      "source": [
        "# モデルの学習と診断\n",
        "探索で見つけた最適な次数を使い、学習データで最終的なモデルを構築します。学習後、診断プロットでモデルの残差（誤差）が適切か（良いモデルの条件を満たしているか）を確認します。"
      ],
      "metadata": {
        "id": "pguz_mgfTElq"
      }
    },
    {
      "cell_type": "markdown",
      "source": [
        "## モデルの学習"
      ],
      "metadata": {
        "id": "64rgdjHhV6DH"
      }
    },
    {
      "cell_type": "code",
      "source": [
        "# 最適なパラメータでモデルを学習\n",
        "model = sm.tsa.statespace.SARIMAX(train_y,\n",
        "                                  exog=train_X,\n",
        "                                  order=best_pdq,\n",
        "                                  seasonal_order=best_seasonal_pdq,\n",
        "                                  enforce_stationarity=False,\n",
        "                                  enforce_invertibility=False)\n",
        "results = model.fit(disp=False)\n",
        "\n",
        "print(\"\\n--- モデルのサマリー ---\")\n",
        "print(results.summary())\n"
      ],
      "metadata": {
        "colab": {
          "base_uri": "https://localhost:8080/",
          "height": 1000
        },
        "id": "gO9DiUhOTP1E",
        "outputId": "c0229924-362e-40d2-a087-a166f2e64083"
      },
      "execution_count": 20,
      "outputs": [
        {
          "output_type": "stream",
          "name": "stderr",
          "text": [
            "/usr/local/lib/python3.12/dist-packages/statsmodels/tsa/statespace/sarimax.py:866: UserWarning: Too few observations to estimate starting parameters for seasonal ARMA. All parameters except for variances will be set to zeros.\n",
            "  warn('Too few observations to estimate starting parameters%s.'\n",
            "/usr/local/lib/python3.12/dist-packages/statsmodels/base/model.py:607: ConvergenceWarning: Maximum Likelihood optimization failed to converge. Check mle_retvals\n",
            "  warnings.warn(\"Maximum Likelihood optimization failed to \"\n"
          ]
        },
        {
          "output_type": "stream",
          "name": "stdout",
          "text": [
            "\n",
            "--- モデルのサマリー ---\n",
            "                                      SARIMAX Results                                       \n",
            "============================================================================================\n",
            "Dep. Variable:                           kill_score   No. Observations:                  288\n",
            "Model:             SARIMAX(2, 0, 2)x(0, 1, [1], 73)   Log Likelihood                -905.040\n",
            "Date:                              Tue, 16 Sep 2025   AIC                           1828.079\n",
            "Time:                                      20:59:23   BIC                           1854.490\n",
            "Sample:                                           0   HQIC                          1838.812\n",
            "                                              - 288                                         \n",
            "Covariance Type:                                opg                                         \n",
            "==============================================================================\n",
            "                 coef    std err          z      P>|z|      [0.025      0.975]\n",
            "------------------------------------------------------------------------------\n",
            "積算温度_1半旬前     -4.3515      1.747     -2.492      0.013      -7.775      -0.928\n",
            "積算温度_2半旬前      1.0895      1.936      0.563      0.574      -2.705       4.884\n",
            "積算温度_3半旬前      4.8276      1.930      2.501      0.012       1.045       8.611\n",
            "ar.L1          1.4368      1.156      1.243      0.214      -0.829       3.703\n",
            "ar.L2         -0.4786      0.542     -0.883      0.377      -1.541       0.583\n",
            "ma.L1         -0.4328      1.166     -0.371      0.710      -2.718       1.852\n",
            "ma.L2         -0.4653      0.622     -0.748      0.454      -1.684       0.754\n",
            "ma.S.L73      -0.6024      0.053    -11.402      0.000      -0.706      -0.499\n",
            "sigma2      3.063e+04   2405.437     12.734      0.000    2.59e+04    3.53e+04\n",
            "===================================================================================\n",
            "Ljung-Box (L1) (Q):                   0.03   Jarque-Bera (JB):              1304.00\n",
            "Prob(Q):                              0.87   Prob(JB):                         0.00\n",
            "Heteroskedasticity (H):               0.68   Skew:                            -1.51\n",
            "Prob(H) (two-sided):                  0.20   Kurtosis:                        17.70\n",
            "===================================================================================\n",
            "\n",
            "Warnings:\n",
            "[1] Covariance matrix calculated using the outer product of gradients (complex-step).\n"
          ]
        },
        {
          "output_type": "error",
          "ename": "ValueError",
          "evalue": "Length of endogenous variable must be larger the the number of lags used in the model and the number of observations burned in the log-likelihood calculation.",
          "traceback": [
            "\u001b[0;31m---------------------------------------------------------------------------\u001b[0m",
            "\u001b[0;31mValueError\u001b[0m                                Traceback (most recent call last)",
            "\u001b[0;32m/tmp/ipython-input-3507566320.py\u001b[0m in \u001b[0;36m<cell line: 0>\u001b[0;34m()\u001b[0m\n\u001b[1;32m     12\u001b[0m \u001b[0;34m\u001b[0m\u001b[0m\n\u001b[1;32m     13\u001b[0m \u001b[0;31m# モデルの診断プロットを表示\u001b[0m\u001b[0;34m\u001b[0m\u001b[0;34m\u001b[0m\u001b[0m\n\u001b[0;32m---> 14\u001b[0;31m \u001b[0mresults\u001b[0m\u001b[0;34m.\u001b[0m\u001b[0mplot_diagnostics\u001b[0m\u001b[0;34m(\u001b[0m\u001b[0mfigsize\u001b[0m\u001b[0;34m=\u001b[0m\u001b[0;34m(\u001b[0m\u001b[0;36m15\u001b[0m\u001b[0;34m,\u001b[0m \u001b[0;36m12\u001b[0m\u001b[0;34m)\u001b[0m\u001b[0;34m)\u001b[0m\u001b[0;34m\u001b[0m\u001b[0;34m\u001b[0m\u001b[0m\n\u001b[0m\u001b[1;32m     15\u001b[0m \u001b[0mplt\u001b[0m\u001b[0;34m.\u001b[0m\u001b[0mtight_layout\u001b[0m\u001b[0;34m(\u001b[0m\u001b[0;34m)\u001b[0m\u001b[0;34m\u001b[0m\u001b[0;34m\u001b[0m\u001b[0m\n\u001b[1;32m     16\u001b[0m \u001b[0mplt\u001b[0m\u001b[0;34m.\u001b[0m\u001b[0mshow\u001b[0m\u001b[0;34m(\u001b[0m\u001b[0;34m)\u001b[0m\u001b[0;34m\u001b[0m\u001b[0;34m\u001b[0m\u001b[0m\n",
            "\u001b[0;32m/usr/local/lib/python3.12/dist-packages/statsmodels/tsa/statespace/mlemodel.py\u001b[0m in \u001b[0;36mplot_diagnostics\u001b[0;34m(self, variable, lags, fig, figsize, truncate_endog_names, auto_ylims, bartlett_confint, acf_kwargs)\u001b[0m\n\u001b[1;32m   4639\u001b[0m \u001b[0;34m\u001b[0m\u001b[0m\n\u001b[1;32m   4640\u001b[0m         \u001b[0;32mif\u001b[0m \u001b[0mresid\u001b[0m\u001b[0;34m.\u001b[0m\u001b[0mshape\u001b[0m\u001b[0;34m[\u001b[0m\u001b[0;36m0\u001b[0m\u001b[0;34m]\u001b[0m \u001b[0;34m<\u001b[0m \u001b[0mmax\u001b[0m\u001b[0;34m(\u001b[0m\u001b[0md\u001b[0m\u001b[0;34m,\u001b[0m \u001b[0mlags\u001b[0m\u001b[0;34m)\u001b[0m\u001b[0;34m:\u001b[0m\u001b[0;34m\u001b[0m\u001b[0;34m\u001b[0m\u001b[0m\n\u001b[0;32m-> 4641\u001b[0;31m             raise ValueError(\n\u001b[0m\u001b[1;32m   4642\u001b[0m                 \u001b[0;34m\"Length of endogenous variable must be larger the the number \"\u001b[0m\u001b[0;34m\u001b[0m\u001b[0;34m\u001b[0m\u001b[0m\n\u001b[1;32m   4643\u001b[0m                 \u001b[0;34m\"of lags used in the model and the number of observations \"\u001b[0m\u001b[0;34m\u001b[0m\u001b[0;34m\u001b[0m\u001b[0m\n",
            "\u001b[0;31mValueError\u001b[0m: Length of endogenous variable must be larger the the number of lags used in the model and the number of observations burned in the log-likelihood calculation."
          ]
        },
        {
          "output_type": "display_data",
          "data": {
            "text/plain": [
              "<Figure size 1500x1200 with 0 Axes>"
            ]
          },
          "metadata": {}
        }
      ]
    },
    {
      "cell_type": "markdown",
      "source": [
        "## モデルの保存"
      ],
      "metadata": {
        "id": "PUHkd8hyV15E"
      }
    },
    {
      "cell_type": "code",
      "source": [
        "# ファイル名を指定（拡張子は .pkl が一般的）\n",
        "dt_now = dt.datetime.now(pytz.timezone('Asia/Tokyo'))\n",
        "model_path = \"/content/drive/MyDrive/アストロキャンプ/models/sarimax_unka_model_\" + dt_now.isoformat(timespec=\"seconds\") + \".pkl\"\n",
        "results.save(model_path)\n",
        "\n",
        "print(f\"学習済みモデルを '{model_path}' に保存しました．\")\n"
      ],
      "metadata": {
        "colab": {
          "base_uri": "https://localhost:8080/"
        },
        "id": "C5eolzBhWswj",
        "outputId": "22353f67-b7a9-457f-ef95-378c8796be93"
      },
      "execution_count": 33,
      "outputs": [
        {
          "output_type": "stream",
          "name": "stdout",
          "text": [
            "学習済みモデルを '/content/drive/MyDrive/アストロキャンプ/models/sarimax_unka_model_2025-09-17T06:28:38+09:00.pkl' に保存しました．\n"
          ]
        }
      ]
    },
    {
      "cell_type": "markdown",
      "source": [
        "## 診断プロット\n",
        "診断プロットの見方: 右下の「Correlogram」（ACFプロット）で、ラグ1以降に青い領域からはみ出す自己相関がなければ、モデルが捉えきれなかった誤差はランダムであり、良いモデルであることを示唆します。\n",
        "***\n",
        "- 上のグラフ（残差の時系列プロット）:\n",
        "理想は、0の線を中止に、特定のパターンなく、ランダムに値が散らばっていることです。もし周期的な波や、時間と共にばらつきが広がるなどの傾向が見られたら、モデルが捉えきれていない情報が残っているサインです。\n",
        "\n",
        "- 下のグラフ（残差の自己相関プロット）:\n",
        "理想は、ラグ0（自分自身との相関なので常に1）以外に、青い信頼区間を大きくはみ出す棒がないことです。もしはみ出す棒があれば、それは誤差同士にまだ相関が残っている（＝モデルが予測に使える情報を残している）ことを意味します。"
      ],
      "metadata": {
        "id": "YmH2U9v0aJbd"
      }
    },
    {
      "cell_type": "code",
      "source": [
        "model_path = \"/content/drive/MyDrive/アストロキャンプ/models/sarimax_unka_model_2025-09-17T06:28:38+09:00.pkl\"\n",
        "\n",
        "# statsmodelsの専用関数でモデルをロード\n",
        "try:\n",
        "    loaded_results = sm.load(model_path)\n",
        "    print(\"--- モデルの読み込みに成功しました ---\")\n",
        "    # print(loaded_results.summary())\n",
        "\n",
        "    # --- 診断プロットの表示（ラグ数を減らしてエラーを回避） ---\n",
        "    # lagsパラメータを追加して、診断プロットが参照するラグの数を制限\n",
        "    # 季節周期(73)未満の50などに設定\n",
        "    print(\"\\n--- 診断プロットを生成します ---\")\n",
        "\n",
        "    # 自動診断ツールはデータ数が少ないため使えない模様\n",
        "    \"\"\"\n",
        "    fig = loaded_results.plot_diagnostics(figsize=(15, 12), lags=50)\n",
        "    plt.tight_layout()\n",
        "    plt.show()\n",
        "    \"\"\"\n",
        "\n",
        "    # --- 手動で診断プロットを作成 ---\n",
        "\n",
        "    # 1. モデルから残差（= 実測値 - 予測値）を抽出\n",
        "    residuals = loaded_results.resid\n",
        "\n",
        "    # 描画エリアを準備\n",
        "    fig, axes = plt.subplots(2, 1, figsize=(12, 8))\n",
        "\n",
        "    # 2. プロット1：残差の時系列プロット\n",
        "    axes[0].plot(residuals)\n",
        "    axes[0].axhline(0, linestyle='--', color='gray')\n",
        "    axes[0].set_title('残差の時系列プロット (Residuals over Time)')\n",
        "    axes[0].set_ylabel('残差')\n",
        "\n",
        "    # 3. プロット2：残差の自己相関（ACF）プロット\n",
        "    sm.graphics.tsa.plot_acf(residuals, lags=50, ax=axes[1])\n",
        "\n",
        "    plt.tight_layout()\n",
        "    plt.grid()\n",
        "    plt.show()\n",
        "\n",
        "except FileNotFoundError:\n",
        "    print(f\"エラー: ファイル '{model_path}' が見つかりません。\")\n",
        "except Exception as e:\n",
        "    print(f\"モデルの読み込みまたはプロット中にエラーが発生しました: {e}\")\n"
      ],
      "metadata": {
        "colab": {
          "base_uri": "https://localhost:8080/",
          "height": 760
        },
        "id": "uxy4jbWRaQk1",
        "outputId": "c3b7be19-1c7e-4778-9827-564928ae6db4"
      },
      "execution_count": 86,
      "outputs": [
        {
          "output_type": "stream",
          "name": "stdout",
          "text": [
            "--- モデルの読み込みに成功しました ---\n",
            "\n",
            "--- 診断プロットを生成します ---\n"
          ]
        },
        {
          "output_type": "display_data",
          "data": {
            "text/plain": [
              "<Figure size 1200x800 with 2 Axes>"
            ],
            "image/png": "[encoded data removed]"
          },
          "metadata": {}
        }
      ]
    },
    {
      "cell_type": "markdown",
      "source": [
        "# 予測と評価"
      ],
      "metadata": {
        "id": "QuHiYg_kejti"
      }
    },
    {
      "cell_type": "markdown",
      "source": [
        "## 未来予測の実行\n",
        "loadで読み込んだモデルオブジェクト（loaded_results）を使い、テストデータ期間（例：2024年）の値を予測します。この際、その期間に対応する説明変数（test_X）も渡す必要があります。\n",
        "\n"
      ],
      "metadata": {
        "id": "JJ_gnWKDe5b7"
      }
    },
    {
      "cell_type": "code",
      "source": [
        "# --- 予測の実行 ---\n",
        "# test_y と test_X は、事前に分割しておいた2024年のデータ\n",
        "\n",
        "# 予測する期間のステップ数を計算（例：2024年の活動期間のデータ数）\n",
        "forecast_steps = len(test_y)\n",
        "\n",
        "# .get_forecast() を使って未来予測を生成\n",
        "# stepsに予測したい期間の長さを、exogにその期間の説明変数を渡す\n",
        "forecast = loaded_results.get_forecast(steps=forecast_steps, exog=test_X)\n",
        "\n",
        "# 予測結果の平均値を取得\n",
        "y_forecasted = forecast.predicted_mean.to_frame()\n",
        "y_forecasted.set_index(test_X.index, inplace=True)\n",
        "\n",
        "# 予測の信頼区間を取得\n",
        "pred_ci = forecast.conf_int()\n",
        "pred_ci.set_index(test_X.index, inplace=True)\n"
      ],
      "metadata": {
        "id": "VtV2TcI9elOP"
      },
      "execution_count": 101,
      "outputs": []
    },
    {
      "cell_type": "markdown",
      "source": [
        "## 結果の可視化と精度評価\n",
        "最後に、予測値と実測値をグラフに重ねてプロットし、視覚的に精度を確認します。また、RMSE（Root Mean Squared Error）のような評価指標を計算し、予測誤差の平均的な大きさを定量的に評価します。"
      ],
      "metadata": {
        "id": "3qWbGMbMhUMD"
      }
    },
    {
      "cell_type": "code",
      "source": [
        "# --- 予測結果の可視化 ---\n",
        "plt.figure(figsize=(15, 7))\n",
        "ax = y.plot(label='実測値（全期間）') # 比較のため全期間の実測値をプロット\n",
        "y_forecasted.plot(ax=ax, label='未来予測値 (2024年)', style='--')\n",
        "\n",
        "ax.fill_between(pred_ci.index,\n",
        "                pred_ci.iloc[:, 0],\n",
        "                pred_ci.iloc[:, 1], color='k', alpha=.2)\n",
        "\n",
        "plt.title('SARIMAXモデルによる未来予測')\n",
        "plt.legend()\n",
        "plt.show()\n",
        "\n",
        "# --- 精度の定量評価 ---\n",
        "from sklearn.metrics import mean_squared_error\n",
        "import numpy as np\n",
        "\n",
        "# 予測期間の実測値と予測値でRMSEを計算\n",
        "rmse = np.sqrt(mean_squared_error(test_y, y_forecasted))\n",
        "print(f'\\n2024年活動期間におけるRMSE: {rmse:.2f}')\n"
      ],
      "metadata": {
        "id": "Uig9rxuLhXRQ",
        "outputId": "3f456300-96f1-411a-df12-9dbdd400cfef",
        "colab": {
          "base_uri": "https://localhost:8080/",
          "height": 538
        }
      },
      "execution_count": 103,
      "outputs": [
        {
          "output_type": "display_data",
          "data": {
            "text/plain": [
              "<Figure size 1500x700 with 1 Axes>"
            ],
            "image/png": "[encoded data removed]"
          },
          "metadata": {}
        },
        {
          "output_type": "stream",
          "name": "stdout",
          "text": [
            "\n",
            "2024年活動期間におけるRMSE: 126.62\n"
          ]
        }
      ]
    }
  ]
}