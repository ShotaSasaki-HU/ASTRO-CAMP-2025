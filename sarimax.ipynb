{
  "nbformat": 4,
  "nbformat_minor": 0,
  "metadata": {
    "colab": {
      "provenance": [],
      "authorship_tag": "ABX9TyPO5b6hVMvbTr8GthPgg+dd",
      "include_colab_link": true
    },
    "kernelspec": {
      "name": "python3",
      "display_name": "Python 3"
    },
    "language_info": {
      "name": "python"
    }
  },
  "cells": [
    {
      "cell_type": "markdown",
      "metadata": {
        "id": "view-in-github",
        "colab_type": "text"
      },
      "source": [
        "<a href=\"https://colab.research.google.com/github/ShotaSasaki-HU/ASTRO-CAMP-2025/blob/main/sarimax.ipynb\" target=\"_parent\"><img src=\"https://colab.research.google.com/assets/colab-badge.svg\" alt=\"Open In Colab\"/></a>"
      ]
    },
    {
      "cell_type": "markdown",
      "source": [
        "# ライブラリ"
      ],
      "metadata": {
        "id": "5fw7eRGvehR3"
      }
    },
    {
      "cell_type": "code",
      "execution_count": 129,
      "metadata": {
        "id": "uCjPfpWmd4Xu"
      },
      "outputs": [],
      "source": [
        "import pandas as pd\n",
        "import numpy as np\n",
        "import statsmodels\n",
        "import datetime as dt\n",
        "import ee\n",
        "from tqdm.notebook import tqdm # 進捗表示用\n"
      ]
    },
    {
      "cell_type": "markdown",
      "source": [
        "# データ準備"
      ],
      "metadata": {
        "id": "pYG5NGjghOjT"
      }
    },
    {
      "cell_type": "markdown",
      "source": [
        "## 目的変数（誘殺数）"
      ],
      "metadata": {
        "id": "tY881QGmhRGE"
      }
    },
    {
      "cell_type": "markdown",
      "source": [
        "### 5年間の時系列化"
      ],
      "metadata": {
        "id": "R5DYn94tzDuS"
      }
    },
    {
      "cell_type": "code",
      "source": [
        "all_years = []\n",
        "\n",
        "for year in range(2020, 2024 + 1):\n",
        "    # セジロウンカ\n",
        "    path = f\"https://github.com/ShotaSasaki-HU/ASTRO-CAMP-2025/raw/refs/heads/main/data/%E9%A6%99%E5%B7%9D%E7%9C%8C%E8%BE%B2%E6%A5%AD%E8%A9%A6%E9%A8%93%E5%A0%B4%E7%97%85%E5%AE%B3%E8%99%AB%E9%98%B2%E9%99%A4%E6%89%80_%E6%A5%AD%E5%8B%99%E5%B9%B4%E5%A0%B1_%E5%90%84%E3%82%A4%E3%83%8D%E3%82%A6%E3%83%B3%E3%82%AB%E9%A1%9E%E3%81%AE%E6%97%A5%E5%88%A5%E8%AA%98%E6%AE%BA%E6%95%B0/%E3%82%BB%E3%82%B8%E3%83%AD%E3%82%A6%E3%83%B3%E3%82%AB%E6%97%A5%E5%88%A5%E8%AA%98%E6%AE%BA%E6%95%B0_{year}.csv\"\n",
        "    df_year = pd.read_csv(path, encoding=\"utf-8\", header=0)\n",
        "    df_year.drop('Unnamed: 0', axis=1, inplace=True)\n",
        "\n",
        "    # 「欠測」を0と見做す\n",
        "    df_year.replace('欠測', 0, inplace=True)\n",
        "\n",
        "    # メスとオスの和\n",
        "    for month in range(4, 11 + 1):\n",
        "        df_year[f'{month}月'] = df_year[f'{month}月_メス'].astype('float64') + df_year[f'{month}月_オス'].astype('float64') # NaNを扱うためにfloat\n",
        "        df_year.drop([f'{month}月_メス', f'{month}月_オス'], axis=1, inplace=True)\n",
        "\n",
        "    # 縦持ちへ変換\n",
        "    df_year = df_year.melt(\n",
        "        id_vars=['日'], # そのまま残る列\n",
        "        value_vars=['4月', '5月', '6月', '7月', '8月', '9月', '10月', '11月'], # 値となる列\n",
        "        var_name='月', # 新しい列名\n",
        "        value_name='kill_score'\n",
        "        )\n",
        "\n",
        "    # 「西向く侍」のNaN値を排除\n",
        "    df_year.dropna(inplace=True)\n",
        "\n",
        "    # '月'を数値化\n",
        "    df_year['月'] = df_year['月'].str.replace('月', '').astype(int)\n",
        "\n",
        "    # datetime生成\n",
        "    df_year['date'] = pd.to_datetime({\n",
        "        'year': year,\n",
        "        'month': df_year['月'],\n",
        "        'day': df_year['日'].astype(int)\n",
        "    }, errors='raise')\n",
        "    df_year = df_year.sort_values('date').reset_index(drop=True) # 時系列順にソート\n",
        "\n",
        "    df_year = df_year[['date', 'kill_score']]\n",
        "    all_years.append(df_year)\n",
        "\n",
        "# 5年分を結合\n",
        "df_resp = pd.concat(all_years, ignore_index=True)\n",
        "df_resp['kill_score'] = df_resp['kill_score'].astype(int)\n",
        "\n",
        "print(df_resp)\n"
      ],
      "metadata": {
        "colab": {
          "base_uri": "https://localhost:8080/"
        },
        "id": "ZdP4G1KEhOP0",
        "outputId": "1de39631-0bd4-478d-c157-590779080589"
      },
      "execution_count": 130,
      "outputs": [
        {
          "output_type": "stream",
          "name": "stdout",
          "text": [
            "           date  kill_score\n",
            "0    2020-04-01           0\n",
            "1    2020-04-02           0\n",
            "2    2020-04-03           0\n",
            "3    2020-04-04           0\n",
            "4    2020-04-05           0\n",
            "...         ...         ...\n",
            "1215 2024-11-26           0\n",
            "1216 2024-11-27           0\n",
            "1217 2024-11-28           0\n",
            "1218 2024-11-29           0\n",
            "1219 2024-11-30           0\n",
            "\n",
            "[1220 rows x 2 columns]\n"
          ]
        }
      ]
    },
    {
      "cell_type": "markdown",
      "source": [
        "### 月半旬（5日ごと）で分割"
      ],
      "metadata": {
        "id": "NfAHgyFu0pe8"
      }
    },
    {
      "cell_type": "code",
      "source": [
        "df_resp['year'] = df_resp['date'].dt.year\n",
        "df_resp['month'] = df_resp['date'].dt.month\n",
        "df_resp['day'] = df_resp['date'].dt.day\n",
        "\n",
        "df_resp['hanjun'] = pd.cut(\n",
        "    df_resp['day'],\n",
        "    bins=[0, 5, 10, 15, 20, 25, 31], # 区切り\n",
        "    labels=[1, 6, 11, 16, 21, 26]    # 月半旬開始日\n",
        ")\n",
        "\n",
        "df_resp['hanjun_start'] = pd.to_datetime({\n",
        "    'year': df_resp['year'],\n",
        "    'month': df_resp['month'],\n",
        "    'day': df_resp['hanjun']\n",
        "}, errors='raise')\n",
        "df_resp = df_resp.sort_values('hanjun_start').reset_index(drop=True) # 時系列順にソート\n",
        "\n",
        "df_resp = df_resp.groupby(['hanjun_start'], as_index=False)['kill_score'].sum()\n",
        "\n",
        "print(df_resp)\n"
      ],
      "metadata": {
        "colab": {
          "base_uri": "https://localhost:8080/"
        },
        "id": "CeDHcJkZ0zRR",
        "outputId": "56ba7575-d06f-4a76-970a-24f39b5f0750"
      },
      "execution_count": 131,
      "outputs": [
        {
          "output_type": "stream",
          "name": "stdout",
          "text": [
            "    hanjun_start  kill_score\n",
            "0     2020-04-01           0\n",
            "1     2020-04-06           0\n",
            "2     2020-04-11           0\n",
            "3     2020-04-16           0\n",
            "4     2020-04-21           0\n",
            "..           ...         ...\n",
            "235   2024-11-06           0\n",
            "236   2024-11-11           0\n",
            "237   2024-11-16           0\n",
            "238   2024-11-21           0\n",
            "239   2024-11-26           0\n",
            "\n",
            "[240 rows x 2 columns]\n"
          ]
        }
      ]
    },
    {
      "cell_type": "markdown",
      "source": [
        "## 説明変数"
      ],
      "metadata": {
        "id": "6ix5X7LZhZ-N"
      }
    },
    {
      "cell_type": "markdown",
      "source": [
        "### Google Earth Engineの認証"
      ],
      "metadata": {
        "id": "UfOTLgyW7WF-"
      }
    },
    {
      "cell_type": "code",
      "source": [
        "ee.Authenticate() # Colabではブラウザで認証を行う\n",
        "ee.Initialize(project='astro-camp')\n",
        "# ee.Initialize(project='my-project-astrocamp')\n"
      ],
      "metadata": {
        "id": "bUbptZkshcKD"
      },
      "execution_count": 132,
      "outputs": []
    },
    {
      "cell_type": "markdown",
      "source": [
        "### １．積算温度"
      ],
      "metadata": {
        "id": "kJVWnma_Bnkd"
      }
    },
    {
      "cell_type": "markdown",
      "source": [
        "#### CSV生成"
      ],
      "metadata": {
        "id": "AXlgyUfmMqGB"
      }
    },
    {
      "cell_type": "code",
      "source": [
        "aoi = ee.Geometry.Rectangle([100, 15, 115, 30])\n",
        "developmental_zero = 12.0 # 発育下限温度（発育零点）\n",
        "PERIOD_DAYS = 5\n",
        "\n",
        "# 指定された期間の積算温度を計算する関数\n",
        "def get_degree_days_for_period(start_date, end_date):\n",
        "    ee_start_date = ee.Date(start_date.strftime('%Y-%m-%d'))\n",
        "    ee_end_date = ee.Date(end_date.strftime('%Y-%m-%d'))\n",
        "    days_in_period = ee_end_date.difference(ee_start_date, 'day')\n",
        "\n",
        "    # 指定した月半旬のMODIS画像コレクションを取得\n",
        "    collection = ee.ImageCollection('MODIS/061/MOD11A1').filterDate(ee_start_date, ee_end_date)\n",
        "\n",
        "    # --- ここからが積算温度の計算部分 ---\n",
        "\n",
        "    # 期間内の画像枚数をサーバーサイドでカウント\n",
        "    image_count = collection.size()\n",
        "\n",
        "    # 画像が1枚以上ある場合の関数\n",
        "    def calculate_stats(img_collection):\n",
        "        # 日々の積算温度を計算する関数\n",
        "        def calculate_degree_days(image):\n",
        "            # LSTバンドを選択し，スケール変換と単位変換（ケルビン -> 摂氏）．\n",
        "            temp_celsius = image.select('LST_Day_1km').multiply(0.02).subtract(273.15)\n",
        "            # (気温 - 基準温度) を計算．結果がマイナスなら0にする．\n",
        "            degree_day = temp_celsius.subtract(developmental_zero).max(0)\n",
        "            return degree_day\n",
        "\n",
        "        # コレクション内の各画像（各日）に対して上記の関数を適用\n",
        "        daily_degree_days = collection.map(calculate_degree_days)\n",
        "\n",
        "        # 期間内の日平均積算温度を計算し、期間の日数を掛けて正規化\n",
        "        total_degree_days_image = daily_degree_days.mean().multiply(days_in_period).rename('Degree_Days')\n",
        "\n",
        "        # AOI内の平均値を計算\n",
        "        stats = total_degree_days_image.reduceRegion(\n",
        "            reducer=ee.Reducer.mean(),\n",
        "            geometry=aoi,\n",
        "            scale=1000,\n",
        "            maxPixels=1e9\n",
        "        )\n",
        "        return stats\n",
        "\n",
        "    # 画像が0枚だった場合の関数\n",
        "    def empty_case():\n",
        "        return ee.Dictionary({'Degree_Days': None})\n",
        "\n",
        "    # image_count > 0 の条件で分岐を実行\n",
        "    # ee.Algorithms.If(condition, true_case, false_case)\n",
        "    # greater than(0)\n",
        "    stats = ee.Dictionary(ee.Algorithms.If(image_count.gt(0), calculate_stats(collection), empty_case()))\n",
        "\n",
        "    return stats.getInfo().get('Degree_Days')\n",
        "\n",
        "lagged_features = [] # 遅延した特徴量たち\n",
        "dd_cache = {} # 計算結果を保存するキャッシュ用の辞書\n",
        "\n",
        "for index, row in tqdm(df_resp.iterrows(), total=df_resp.shape[0], desc=\"積算温度を計算中\"):\n",
        "    current_start = row['hanjun_start']\n",
        "\n",
        "    row_features = {} # 計算結果を格納する辞書\n",
        "    row_features['hanjun_start'] = current_start\n",
        "\n",
        "    # 1半旬前から3半旬前までをループ処理\n",
        "    for lag in range(1, 3 + 1):\n",
        "        start_lag = current_start - pd.Timedelta(days=PERIOD_DAYS * lag)\n",
        "        end_lag = current_start - pd.Timedelta(days=PERIOD_DAYS * (lag - 1))\n",
        "\n",
        "        # キャッシュキーを作成\n",
        "        cache_key = start_lag.strftime('%Y-%m-%d')\n",
        "\n",
        "        # キャッシュの確認\n",
        "        if cache_key in dd_cache:\n",
        "            # キャッシュがある場合\n",
        "            dd_value = dd_cache[cache_key]\n",
        "        else:\n",
        "            # キャッシュが無い場合\n",
        "            dd_value = get_degree_days_for_period(start_lag, end_lag)\n",
        "            dd_cache[cache_key] = dd_value\n",
        "\n",
        "        row_features[f'積算温度_{lag}半旬前'] = dd_value\n",
        "\n",
        "    lagged_features.append(row_features)\n",
        "\n",
        "# 計算結果のリストを新しいデータフレームに変換\n",
        "df_degree_days = pd.DataFrame(lagged_features)\n",
        "\n",
        "# NaN値の線形補間を実行（月半旬が短いためデータが無い場合あり）\n",
        "df_degree_days.interpolate(method='linear', inplace=True)\n",
        "\n",
        "aoi_info = aoi.getInfo()\n",
        "coords = aoi_info['coordinates'][0]\n",
        "min_lon = coords[0][0]\n",
        "min_lat = coords[0][1]\n",
        "max_lon = coords[2][0]\n",
        "max_lat = coords[2][1]\n",
        "file_name = f\"df_degree_days_[{min_lon}, {min_lat}, {max_lon}, {max_lat}].csv\"\n",
        "df_degree_days.to_csv(file_name)\n",
        "\n",
        "df_degree_days\n"
      ],
      "metadata": {
        "id": "G6pfwsUqBrmB"
      },
      "execution_count": null,
      "outputs": []
    },
    {
      "cell_type": "markdown",
      "source": [
        "#### CSV読み込み"
      ],
      "metadata": {
        "id": "VdfNeu4-MvuZ"
      }
    },
    {
      "cell_type": "code",
      "source": [],
      "metadata": {
        "id": "IO6q2S76Mxbt"
      },
      "execution_count": 133,
      "outputs": []
    }
  ]
}