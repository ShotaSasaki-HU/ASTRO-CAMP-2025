{
  "nbformat": 4,
  "nbformat_minor": 0,
  "metadata": {
    "colab": {
      "provenance": [],
      "authorship_tag": "ABX9TyP6dGF5GBs6UKSofFkff36s",
      "include_colab_link": true
    },
    "kernelspec": {
      "name": "python3",
      "display_name": "Python 3"
    },
    "language_info": {
      "name": "python"
    }
  },
  "cells": [
    {
      "cell_type": "markdown",
      "metadata": {
        "id": "view-in-github",
        "colab_type": "text"
      },
      "source": [
        "<a href=\"https://colab.research.google.com/github/ShotaSasaki-HU/ASTRO-CAMP-2025/blob/main/linear_regression.ipynb\" target=\"_parent\"><img src=\"https://colab.research.google.com/assets/colab-badge.svg\" alt=\"Open In Colab\"/></a>"
      ]
    },
    {
      "cell_type": "markdown",
      "source": [
        "# ライブラリ"
      ],
      "metadata": {
        "id": "gtOvDoFpf4Kd"
      }
    },
    {
      "cell_type": "code",
      "source": [
        "!pip install earthengine-api geemap rasterio folium scikit-learn --quiet\n",
        "!pip install rasterio\n",
        "import rasterio\n",
        "import numpy as np\n",
        "import pandas as pd\n",
        "from sklearn.model_selection import train_test_split\n",
        "from sklearn.linear_model import LinearRegression\n",
        "from sklearn.metrics import mean_squared_error, r2_score\n",
        "import matplotlib.pyplot as plt\n",
        "import ee\n",
        "import geemap\n",
        "import geopandas as gpd\n",
        "from shapely.geometry import box\n",
        "import datetime\n",
        "!pip install japanize-matplotlib\n",
        "import japanize_matplotlib"
      ],
      "metadata": {
        "colab": {
          "base_uri": "https://localhost:8080/",
          "height": 412
        },
        "id": "0wRvmEH-f8N_",
        "outputId": "a142d6de-cf7b-4183-bfe8-60e044b7418f"
      },
      "execution_count": 136,
      "outputs": [
        {
          "output_type": "display_data",
          "data": {
            "text/plain": [
              "<IPython.core.display.HTML object>"
            ],
            "text/html": [
              "\n",
              "            <style>\n",
              "                .geemap-dark {\n",
              "                    --jp-widgets-color: white;\n",
              "                    --jp-widgets-label-color: white;\n",
              "                    --jp-ui-font-color1: white;\n",
              "                    --jp-layout-color2: #454545;\n",
              "                    background-color: #383838;\n",
              "                }\n",
              "\n",
              "                .geemap-dark .jupyter-button {\n",
              "                    --jp-layout-color3: #383838;\n",
              "                }\n",
              "\n",
              "                .geemap-colab {\n",
              "                    background-color: var(--colab-primary-surface-color, white);\n",
              "                }\n",
              "\n",
              "                .geemap-colab .jupyter-button {\n",
              "                    --jp-layout-color3: var(--colab-primary-surface-color, white);\n",
              "                }\n",
              "            </style>\n",
              "            "
            ]
          },
          "metadata": {}
        },
        {
          "output_type": "stream",
          "name": "stdout",
          "text": [
            "Requirement already satisfied: rasterio in /usr/local/lib/python3.12/dist-packages (1.4.3)\n",
            "Requirement already satisfied: affine in /usr/local/lib/python3.12/dist-packages (from rasterio) (2.4.0)\n",
            "Requirement already satisfied: attrs in /usr/local/lib/python3.12/dist-packages (from rasterio) (25.3.0)\n",
            "Requirement already satisfied: certifi in /usr/local/lib/python3.12/dist-packages (from rasterio) (2025.8.3)\n",
            "Requirement already satisfied: click>=4.0 in /usr/local/lib/python3.12/dist-packages (from rasterio) (8.2.1)\n",
            "Requirement already satisfied: cligj>=0.5 in /usr/local/lib/python3.12/dist-packages (from rasterio) (0.7.2)\n",
            "Requirement already satisfied: numpy>=1.24 in /usr/local/lib/python3.12/dist-packages (from rasterio) (2.0.2)\n",
            "Requirement already satisfied: click-plugins in /usr/local/lib/python3.12/dist-packages (from rasterio) (1.1.1.2)\n",
            "Requirement already satisfied: pyparsing in /usr/local/lib/python3.12/dist-packages (from rasterio) (3.2.3)\n",
            "Requirement already satisfied: japanize-matplotlib in /usr/local/lib/python3.12/dist-packages (1.1.3)\n",
            "Requirement already satisfied: matplotlib in /usr/local/lib/python3.12/dist-packages (from japanize-matplotlib) (3.10.0)\n",
            "Requirement already satisfied: contourpy>=1.0.1 in /usr/local/lib/python3.12/dist-packages (from matplotlib->japanize-matplotlib) (1.3.3)\n",
            "Requirement already satisfied: cycler>=0.10 in /usr/local/lib/python3.12/dist-packages (from matplotlib->japanize-matplotlib) (0.12.1)\n",
            "Requirement already satisfied: fonttools>=4.22.0 in /usr/local/lib/python3.12/dist-packages (from matplotlib->japanize-matplotlib) (4.59.2)\n",
            "Requirement already satisfied: kiwisolver>=1.3.1 in /usr/local/lib/python3.12/dist-packages (from matplotlib->japanize-matplotlib) (1.4.9)\n",
            "Requirement already satisfied: numpy>=1.23 in /usr/local/lib/python3.12/dist-packages (from matplotlib->japanize-matplotlib) (2.0.2)\n",
            "Requirement already satisfied: packaging>=20.0 in /usr/local/lib/python3.12/dist-packages (from matplotlib->japanize-matplotlib) (25.0)\n",
            "Requirement already satisfied: pillow>=8 in /usr/local/lib/python3.12/dist-packages (from matplotlib->japanize-matplotlib) (11.3.0)\n",
            "Requirement already satisfied: pyparsing>=2.3.1 in /usr/local/lib/python3.12/dist-packages (from matplotlib->japanize-matplotlib) (3.2.3)\n",
            "Requirement already satisfied: python-dateutil>=2.7 in /usr/local/lib/python3.12/dist-packages (from matplotlib->japanize-matplotlib) (2.9.0.post0)\n",
            "Requirement already satisfied: six>=1.5 in /usr/local/lib/python3.12/dist-packages (from python-dateutil>=2.7->matplotlib->japanize-matplotlib) (1.17.0)\n"
          ]
        }
      ]
    },
    {
      "cell_type": "markdown",
      "source": [
        "# GEEの認証"
      ],
      "metadata": {
        "id": "4QSOMqFsLl_L"
      }
    },
    {
      "cell_type": "code",
      "source": [
        "ee.Authenticate() # Colabではブラウザで認証を行う\n",
        "ee.Initialize(project='astro-camp')\n",
        "# ee.Initialize(project='astrocamp')"
      ],
      "metadata": {
        "id": "UM02qaVDLnYu",
        "colab": {
          "base_uri": "https://localhost:8080/",
          "height": 17
        },
        "outputId": "329873af-db4b-4713-952d-f2a5032c8a65"
      },
      "execution_count": 137,
      "outputs": [
        {
          "output_type": "display_data",
          "data": {
            "text/plain": [
              "<IPython.core.display.HTML object>"
            ],
            "text/html": [
              "\n",
              "            <style>\n",
              "                .geemap-dark {\n",
              "                    --jp-widgets-color: white;\n",
              "                    --jp-widgets-label-color: white;\n",
              "                    --jp-ui-font-color1: white;\n",
              "                    --jp-layout-color2: #454545;\n",
              "                    background-color: #383838;\n",
              "                }\n",
              "\n",
              "                .geemap-dark .jupyter-button {\n",
              "                    --jp-layout-color3: #383838;\n",
              "                }\n",
              "\n",
              "                .geemap-colab {\n",
              "                    background-color: var(--colab-primary-surface-color, white);\n",
              "                }\n",
              "\n",
              "                .geemap-colab .jupyter-button {\n",
              "                    --jp-layout-color3: var(--colab-primary-surface-color, white);\n",
              "                }\n",
              "            </style>\n",
              "            "
            ]
          },
          "metadata": {}
        }
      ]
    },
    {
      "cell_type": "markdown",
      "source": [
        "# 被害率（正解データ）のdf_damage_ratio"
      ],
      "metadata": {
        "id": "nFLXTuJigmH7"
      }
    },
    {
      "cell_type": "code",
      "source": [
        "prefectures = [\"福岡\", \"佐賀\", \"長崎\", \"大分\", \"熊本\", \"宮崎\", \"鹿児島\"]\n",
        "\n",
        "# 初期データフレーム\n",
        "cols = [\"都道府県\", \"year\", \"被害面積（ha）\", \"被害量（t）\", \"被害率（%）\"]\n",
        "df_damage_ratio = pd.DataFrame(columns=cols)\n",
        "\n",
        "for prefecture in prefectures:\n",
        "    # 2016\n",
        "    year = 2016\n",
        "    path_csv = f\"https://github.com/ShotaSasaki-HU/ASTRO-CAMP-2025/raw/refs/heads/main/data/%E6%B0%B4%E7%A8%B2%E3%81%AE%E8%A2%AB%E5%AE%B3%E9%9D%A2%E7%A9%8D%E5%8F%8A%E3%81%B2%E3%82%99%E8%A2%AB%E5%AE%B3%E9%87%8F%EF%BC%88%E5%85%A8%E5%9B%BD%E8%BE%B2%E6%A5%AD%E5%9C%B0%E5%9F%9F%E5%88%A5%E3%83%BB%E9%83%BD%E9%81%93%E5%BA%9C%E7%9C%8C%E5%88%A5%EF%BC%89/{year}_%E6%B0%B4%E7%A8%B2%E3%81%AE%E8%A2%AB%E5%AE%B3%E9%9D%A2%E7%A9%8D%E5%8F%8A%E3%81%B2%E3%82%99%E8%A2%AB%E5%AE%B3%E9%87%8F%EF%BC%88%E5%85%A8%E5%9B%BD%E8%BE%B2%E6%A5%AD%E5%9C%B0%E5%9F%9F%E5%88%A5%E3%83%BB%E9%83%BD%E9%81%93%E5%BA%9C%E7%9C%8C%E5%88%A5%EF%BC%89.csv\"\n",
        "    df = pd.read_csv(path_csv, encoding=\"shift-jis\", header=0)\n",
        "\n",
        "    target_col = [col for col in df.columns if \"全国農業地域\" in col][0] # 「全国農業地域」を含む列名を抽出\n",
        "    df = df[df[target_col].str.contains(prefecture)]\n",
        "\n",
        "    target_col = [col for col in df.columns if \"項目\" in col][0]\n",
        "    df_damaged_area = df[df[target_col] == \"虫害_ウンカ_被害面積\"]\n",
        "    df_damaged_amount = df[df[target_col] == \"虫害_ウンカ_被害量\"]\n",
        "    df_damaged_ratio = df[df[target_col] == \"虫害_ウンカ_被害率\"]\n",
        "\n",
        "    df_damage_ratio.loc[len(df_damage_ratio)] = [\n",
        "        prefecture,\n",
        "        year,\n",
        "        float(df_damaged_area[\"value\"].iloc[0]),\n",
        "        float(df_damaged_amount[\"value\"].iloc[0]),\n",
        "        float(df_damaged_ratio[\"value\"].iloc[0])\n",
        "        ]\n",
        "\n",
        "    # 2017\n",
        "    year = 2017\n",
        "    path_csv = f\"https://github.com/ShotaSasaki-HU/ASTRO-CAMP-2025/raw/refs/heads/main/data/%E6%B0%B4%E7%A8%B2%E3%81%AE%E8%A2%AB%E5%AE%B3%E9%9D%A2%E7%A9%8D%E5%8F%8A%E3%81%B2%E3%82%99%E8%A2%AB%E5%AE%B3%E9%87%8F%EF%BC%88%E5%85%A8%E5%9B%BD%E8%BE%B2%E6%A5%AD%E5%9C%B0%E5%9F%9F%E5%88%A5%E3%83%BB%E9%83%BD%E9%81%93%E5%BA%9C%E7%9C%8C%E5%88%A5%EF%BC%89/{year}_%E6%B0%B4%E7%A8%B2%E3%81%AE%E8%A2%AB%E5%AE%B3%E9%9D%A2%E7%A9%8D%E5%8F%8A%E3%81%B2%E3%82%99%E8%A2%AB%E5%AE%B3%E9%87%8F%EF%BC%88%E5%85%A8%E5%9B%BD%E8%BE%B2%E6%A5%AD%E5%9C%B0%E5%9F%9F%E5%88%A5%E3%83%BB%E9%83%BD%E9%81%93%E5%BA%9C%E7%9C%8C%E5%88%A5%EF%BC%89.csv\"\n",
        "    df = pd.read_csv(path_csv, encoding=\"shift-jis\", header=0)\n",
        "\n",
        "    target_col = [col for col in df.columns if \"全国農業地域\" in col][0] # 「全国農業地域」を含む列名を抽出\n",
        "    df = df[df[target_col].str.contains(prefecture)]\n",
        "\n",
        "    df = df[df[\"平成29水稲被害面積被害量\"] == \"虫害_ウンカ\"]\n",
        "    df_damaged_area = df[df[\"平成29水稲被害率被害量\"] == \"被害面積\"]\n",
        "    df_damaged_amount = df[df[\"平成29水稲被害率被害量\"] == \"被害量\"]\n",
        "    df_damaged_ratio = df[df[\"平成29水稲被害率被害量\"] == \"被害率_実数\"]\n",
        "\n",
        "    df_damage_ratio.loc[len(df_damage_ratio)] = [\n",
        "        prefecture,\n",
        "        year,\n",
        "        float(df_damaged_area[\"value\"].iloc[0]),\n",
        "        float(df_damaged_amount[\"value\"].iloc[0]),\n",
        "        float(df_damaged_ratio[\"value\"].iloc[0])\n",
        "        ]\n",
        "\n",
        "    # 2018\n",
        "    year = 2018\n",
        "    path_csv = f\"https://github.com/ShotaSasaki-HU/ASTRO-CAMP-2025/raw/refs/heads/main/data/%E6%B0%B4%E7%A8%B2%E3%81%AE%E8%A2%AB%E5%AE%B3%E9%9D%A2%E7%A9%8D%E5%8F%8A%E3%81%B2%E3%82%99%E8%A2%AB%E5%AE%B3%E9%87%8F%EF%BC%88%E5%85%A8%E5%9B%BD%E8%BE%B2%E6%A5%AD%E5%9C%B0%E5%9F%9F%E5%88%A5%E3%83%BB%E9%83%BD%E9%81%93%E5%BA%9C%E7%9C%8C%E5%88%A5%EF%BC%89/{year}_%E6%B0%B4%E7%A8%B2%E3%81%AE%E8%A2%AB%E5%AE%B3%E9%9D%A2%E7%A9%8D%E5%8F%8A%E3%81%B2%E3%82%99%E8%A2%AB%E5%AE%B3%E9%87%8F%EF%BC%88%E5%85%A8%E5%9B%BD%E8%BE%B2%E6%A5%AD%E5%9C%B0%E5%9F%9F%E5%88%A5%E3%83%BB%E9%83%BD%E9%81%93%E5%BA%9C%E7%9C%8C%E5%88%A5%EF%BC%89.csv\"\n",
        "    df = pd.read_csv(path_csv, encoding=\"shift-jis\", header=0)\n",
        "\n",
        "    target_col = [col for col in df.columns if \"全国農業地域\" in col][0] # 「全国農業地域」を含む列名を抽出\n",
        "    df = df[df[target_col].str.contains(prefecture)]\n",
        "\n",
        "    df = df[df[\"(F002-30-1-012)被害量\"] == \"虫害_ウンカ\"]\n",
        "    df_damaged_area = df[df[\"(F002-30-1-011)被害項目\"] == \"被害面積\"]\n",
        "    df_damaged_amount = df[df[\"(F002-30-1-011)被害項目\"] == \"被害量\"]\n",
        "    df_damaged_ratio = df[df[\"(F002-30-1-011)被害項目\"] == \"被害率_実数\"]\n",
        "\n",
        "    df_damage_ratio.loc[len(df_damage_ratio)] = [\n",
        "        prefecture,\n",
        "        year,\n",
        "        float(df_damaged_area[\"value\"].iloc[0]),\n",
        "        float(df_damaged_amount[\"value\"].iloc[0]),\n",
        "        float(df_damaged_ratio[\"value\"].iloc[0])\n",
        "        ]\n",
        "\n",
        "    # 2019\n",
        "    year = 2019\n",
        "    path_csv = f\"https://github.com/ShotaSasaki-HU/ASTRO-CAMP-2025/raw/refs/heads/main/data/%E6%B0%B4%E7%A8%B2%E3%81%AE%E8%A2%AB%E5%AE%B3%E9%9D%A2%E7%A9%8D%E5%8F%8A%E3%81%B2%E3%82%99%E8%A2%AB%E5%AE%B3%E9%87%8F%EF%BC%88%E5%85%A8%E5%9B%BD%E8%BE%B2%E6%A5%AD%E5%9C%B0%E5%9F%9F%E5%88%A5%E3%83%BB%E9%83%BD%E9%81%93%E5%BA%9C%E7%9C%8C%E5%88%A5%EF%BC%89/{year}_%E6%B0%B4%E7%A8%B2%E3%81%AE%E8%A2%AB%E5%AE%B3%E9%9D%A2%E7%A9%8D%E5%8F%8A%E3%81%B2%E3%82%99%E8%A2%AB%E5%AE%B3%E9%87%8F%EF%BC%88%E5%85%A8%E5%9B%BD%E8%BE%B2%E6%A5%AD%E5%9C%B0%E5%9F%9F%E5%88%A5%E3%83%BB%E9%83%BD%E9%81%93%E5%BA%9C%E7%9C%8C%E5%88%A5%EF%BC%89.csv\"\n",
        "    df = pd.read_csv(path_csv, encoding=\"shift-jis\", header=0)\n",
        "\n",
        "    target_col = [col for col in df.columns if \"全国農業地域\" in col][0] # 「全国農業地域」を含む列名を抽出\n",
        "    df = df[df[target_col].str.contains(prefecture)]\n",
        "\n",
        "    df = df[df[\"被害原因\"] == \"虫害_ウンカ\"]\n",
        "    df_damaged_area = df[df[\"表章項目\"] == \"被害面積\"]\n",
        "    df_damaged_amount = df[df[\"表章項目\"] == \"被害量\"]\n",
        "    df_damaged_ratio = df[df[\"表章項目\"] == \"被害率_実数\"]\n",
        "\n",
        "    df_damage_ratio.loc[len(df_damage_ratio)] = [\n",
        "        prefecture,\n",
        "        year,\n",
        "        float(df_damaged_area[\"value\"].iloc[0]),\n",
        "        float(df_damaged_amount[\"value\"].iloc[0]),\n",
        "        float(df_damaged_ratio[\"value\"].iloc[0])\n",
        "        ]\n",
        "\n",
        "    # 2020 ~ 2023\n",
        "    for year in range(2020, 2023+1):\n",
        "        path_csv = f\"https://github.com/ShotaSasaki-HU/ASTRO-CAMP-2025/raw/refs/heads/main/data/%E6%B0%B4%E7%A8%B2%E3%81%AE%E8%A2%AB%E5%AE%B3%E9%9D%A2%E7%A9%8D%E5%8F%8A%E3%81%B2%E3%82%99%E8%A2%AB%E5%AE%B3%E9%87%8F%EF%BC%88%E5%85%A8%E5%9B%BD%E8%BE%B2%E6%A5%AD%E5%9C%B0%E5%9F%9F%E5%88%A5%E3%83%BB%E9%83%BD%E9%81%93%E5%BA%9C%E7%9C%8C%E5%88%A5%EF%BC%89/{year}_%E6%B0%B4%E7%A8%B2%E3%81%AE%E8%A2%AB%E5%AE%B3%E9%9D%A2%E7%A9%8D%E5%8F%8A%E3%81%B2%E3%82%99%E8%A2%AB%E5%AE%B3%E9%87%8F%EF%BC%88%E5%85%A8%E5%9B%BD%E8%BE%B2%E6%A5%AD%E5%9C%B0%E5%9F%9F%E5%88%A5%E3%83%BB%E9%83%BD%E9%81%93%E5%BA%9C%E7%9C%8C%E5%88%A5%EF%BC%89.csv\"\n",
        "        df = pd.read_csv(path_csv, encoding=\"shift-jis\", header=0)\n",
        "\n",
        "        target_col = [col for col in df.columns if \"全国農業地域\" in col][0] # 「全国農業地域」を含む列名を抽出\n",
        "        df = df[df[target_col].str.contains(prefecture)]\n",
        "\n",
        "        target_col = [col for col in df.columns if \"被害面積及び被害量\" in col][0]\n",
        "        df_damaged_area = df[df[target_col] == \"虫害_ウンカ_被害面積\"]\n",
        "        df_damaged_amount = df[df[target_col] == \"虫害_ウンカ_被害量\"]\n",
        "        df_damaged_ratio = df[df[target_col] == \"虫害_ウンカ_被害率_実数\"]\n",
        "\n",
        "        df_damage_ratio.loc[len(df_damage_ratio)] = [\n",
        "            prefecture,\n",
        "            year,\n",
        "            float(df_damaged_area[\"value\"].iloc[0]),\n",
        "            float(df_damaged_amount[\"value\"].iloc[0]),\n",
        "            float(df_damaged_ratio[\"value\"].iloc[0])\n",
        "            ]\n",
        "\n",
        "print(df_damage_ratio)\n"
      ],
      "metadata": {
        "id": "-RYKFZMxgpza",
        "colab": {
          "base_uri": "https://localhost:8080/",
          "height": 1000
        },
        "outputId": "7b6dafe6-7ad5-4f8d-effa-fd50f093f0a8"
      },
      "execution_count": 149,
      "outputs": [
        {
          "output_type": "display_data",
          "data": {
            "text/plain": [
              "<IPython.core.display.HTML object>"
            ],
            "text/html": [
              "\n",
              "            <style>\n",
              "                .geemap-dark {\n",
              "                    --jp-widgets-color: white;\n",
              "                    --jp-widgets-label-color: white;\n",
              "                    --jp-ui-font-color1: white;\n",
              "                    --jp-layout-color2: #454545;\n",
              "                    background-color: #383838;\n",
              "                }\n",
              "\n",
              "                .geemap-dark .jupyter-button {\n",
              "                    --jp-layout-color3: #383838;\n",
              "                }\n",
              "\n",
              "                .geemap-colab {\n",
              "                    background-color: var(--colab-primary-surface-color, white);\n",
              "                }\n",
              "\n",
              "                .geemap-colab .jupyter-button {\n",
              "                    --jp-layout-color3: var(--colab-primary-surface-color, white);\n",
              "                }\n",
              "            </style>\n",
              "            "
            ]
          },
          "metadata": {}
        },
        {
          "output_type": "stream",
          "name": "stdout",
          "text": [
            "   都道府県  year  被害面積（ha）  被害量（t）  被害率（%）\n",
            "0    福岡  2016    1280.0   182.0     0.1\n",
            "1    福岡  2017    3010.0   495.0     0.3\n",
            "2    福岡  2018    1120.0   121.0     0.1\n",
            "3    福岡  2019    7060.0  2210.0     1.3\n",
            "4    福岡  2020    9690.0  2890.0     1.7\n",
            "5    福岡  2021     785.0   132.0     0.1\n",
            "6    福岡  2022     686.0   203.0     0.1\n",
            "7    福岡  2023     540.0    54.0     0.0\n",
            "8    佐賀  2016    3140.0  1920.0     1.5\n",
            "9    佐賀  2017    5550.0  2320.0     1.8\n",
            "10   佐賀  2018     474.0    38.0     0.0\n",
            "11   佐賀  2019    7630.0  6790.0     5.4\n",
            "12   佐賀  2020    1470.0  1520.0     1.2\n",
            "13   佐賀  2021     467.0   108.0     0.1\n",
            "14   佐賀  2022     616.0   407.0     0.3\n",
            "15   佐賀  2023      96.0    42.0     0.0\n",
            "16   長崎  2016    1230.0   653.0     1.1\n",
            "17   長崎  2017    2090.0   818.0     1.5\n",
            "18   長崎  2018     539.0    33.0     0.1\n",
            "19   長崎  2019    2980.0  1790.0     3.3\n",
            "20   長崎  2020    2380.0  1540.0     2.9\n",
            "21   長崎  2021     506.0    98.0     0.2\n",
            "22   長崎  2022     606.0    91.0     0.2\n",
            "23   長崎  2023     594.0   106.0     0.2\n",
            "24   大分  2016     550.0    50.0     0.0\n",
            "25   大分  2017    1860.0   488.0     0.5\n",
            "26   大分  2018     230.0    27.0     0.0\n",
            "27   大分  2019   11100.0  3500.0     3.4\n",
            "28   大分  2020    9480.0  4520.0     4.5\n",
            "29   大分  2021     624.0   225.0     0.2\n",
            "30   大分  2022     196.0    57.0     0.1\n",
            "31   大分  2023     129.0    36.0     0.0\n",
            "32   熊本  2016    2150.0   809.0     0.5\n",
            "33   熊本  2017    3030.0  2270.0     1.3\n",
            "34   熊本  2018    1120.0   185.0     0.1\n",
            "35   熊本  2019    8800.0  4100.0     2.4\n",
            "36   熊本  2020    9200.0  4980.0     2.9\n",
            "37   熊本  2021    1500.0   649.0     0.4\n",
            "38   熊本  2022    1910.0   789.0     0.5\n",
            "39   熊本  2023     626.0   158.0     0.1\n",
            "40   宮崎  2016    2070.0   320.0     0.4\n",
            "41   宮崎  2017    3440.0   794.0     1.0\n",
            "42   宮崎  2018    1930.0   430.0     0.5\n",
            "43   宮崎  2019    6270.0  3070.0     3.8\n",
            "44   宮崎  2020    3700.0  1630.0     2.1\n",
            "45   宮崎  2021    1330.0   112.0     0.1\n",
            "46   宮崎  2022    1990.0   521.0     0.7\n",
            "47   宮崎  2023    1030.0   728.0     1.0\n",
            "48  鹿児島  2016    7050.0  3150.0     3.1\n",
            "49  鹿児島  2017    7650.0  3100.0     3.2\n",
            "50  鹿児島  2018    3720.0  1070.0     1.2\n",
            "51  鹿児島  2019    6720.0  3870.0     4.1\n",
            "52  鹿児島  2020    4390.0  2590.0     2.8\n",
            "53  鹿児島  2021     251.0    28.0     0.0\n",
            "54  鹿児島  2022    1180.0   230.0     0.3\n",
            "55  鹿児島  2023    1260.0   410.0     0.5\n"
          ]
        }
      ]
    },
    {
      "cell_type": "markdown",
      "source": [
        "# NDVIのdf_ndvi"
      ],
      "metadata": {
        "id": "orRKhSDcf_dU"
      }
    },
    {
      "cell_type": "code",
      "source": [
        "trio_per_year = {\n",
        "    2016: [\"2016-03-28\", \"2016-04-30\", \"2016-06-16\"],\n",
        "    2017: [\"2017-04-02\", \"2017-05-05\", \"2017-07-14\"],\n",
        "    2018: [\"2018-03-28\", \"2018-04-25\", \"2018-06-16\"],\n",
        "    2019: [\"2019-04-07\", \"2019-05-10\", \"2019-06-14\"],\n",
        "    2020: [\"2020-04-16\", \"2020-05-19\", \"2020-06-15\"],\n",
        "    2021: [\"2021-04-09\", \"2021-05-14\", \"2021-06-05\"],\n",
        "    2022: [\"2022-04-11\", \"2022-05-16\", \"2022-06-25\"],\n",
        "    2023: [\"2023-04-11\", \"2023-05-09\", \"2023-06-10\"],\n",
        "    2024: [\"2024-03-29\", \"2024-05-08\", \"2024-05-28\"],\n",
        "    2025: [\"2025-04-15\", \"2025-05-13\", \"2025-06-17\"]\n",
        "}\n",
        "\n",
        "# 初期データフレーム\n",
        "cols = [\"year\", \"NDVI_4月\", \"NDVI_5月\", \"NDVI_6月\"]\n",
        "df_ndvi = pd.DataFrame(columns=cols)\n",
        "\n",
        "for year in trio_per_year.keys():\n",
        "    trio = trio_per_year[year]\n",
        "\n",
        "    ndvi_means = []\n",
        "    for date in trio:\n",
        "        file_path = f\"/content/drive/MyDrive/アストロキャンプ/試製/data/{date}.tif\"\n",
        "\n",
        "        # GeoTIFFを開く\n",
        "        with rasterio.open(file_path) as src:\n",
        "            # バンド数\n",
        "            # print(f\"バンド数: {src.count}\")\n",
        "            # サイズ\n",
        "            # print(f\"width: {src.width}, height: {src.height}\")\n",
        "            # 緯度経度の情報\n",
        "            # print(src.crs)\n",
        "            # print(src.descriptions)\n",
        "\n",
        "            blue = src.read(4, masked=True)\n",
        "            green = src.read(3, masked=True)\n",
        "            red = src.read(2, masked=True)\n",
        "            nir = src.read(1, masked=True)\n",
        "            scl = src.read(5, masked=True)\n",
        "\n",
        "        # NDVIを計算（浮動小数点にキャスト）\n",
        "        red = red.astype(np.float32)\n",
        "        nir = nir.astype(np.float32)\n",
        "        ndvi = (nir - red) / (nir + red + 1e-6) # 0除算対策あり\n",
        "\n",
        "        # sclの値が3, 8, 9のいずれかであるかを示すマスクを作成\n",
        "        # np.isin()は、sclの各要素がリスト内の値と一致するかを調べる\n",
        "        cloud_values = [3, 8, 9]\n",
        "        cloud_mask = np.isin(scl, cloud_values)\n",
        "\n",
        "        # clear_mask は cloud_mask の反対 (雲でない場所がTrue)\n",
        "        clear_mask = ~cloud_mask\n",
        "\n",
        "        # clear_maskを使ってNDVIから雲に該当するピクセルを除外（NaNにする）\n",
        "        ndvi = np.where(clear_mask == 1, ndvi, np.nan)\n",
        "\n",
        "        ndvi_means.append(np.nanmean(ndvi))\n",
        "\n",
        "    df_ndvi.loc[len(df_ndvi)] = [\n",
        "        year,\n",
        "        ndvi_means[0],\n",
        "        ndvi_means[1],\n",
        "        ndvi_means[2]\n",
        "    ]\n",
        "\n",
        "print(df_ndvi)\n"
      ],
      "metadata": {
        "id": "Swi6sfxhf996"
      },
      "execution_count": null,
      "outputs": []
    },
    {
      "cell_type": "markdown",
      "source": [
        "# 地表面温度のdf_temp"
      ],
      "metadata": {
        "id": "4hqTd1FRkaQ7"
      }
    },
    {
      "cell_type": "code",
      "source": [
        "# df_temp = pd.read_csv(\"/content/drive/MyDrive/アストロキャンプ/試製/data/ground_surface_temperature.csv\", index_col=0)\n",
        "#\n",
        "# # 文字列からdatetimeに変換\n",
        "# df_temp[\"date\"] = pd.to_datetime(df_temp[\"date\"])\n",
        "# # 年を文字列で取り出して新しい列を追加\n",
        "# df_temp[\"year\"] = df_temp[\"date\"].dt.year.astype(\"int64\")\n",
        "#\n",
        "# df_temp.drop([\"date\", \"standard_deviation\", \"total_pixel\", \"valid_pixel\"], axis=1, inplace=True)\n",
        "#\n",
        "# df_temp = df_temp.pivot(index=\"year\", columns=\"month\", values=\"average\")\n",
        "# df_temp = df_temp.reset_index()\n",
        "# df_temp = df_temp.rename(columns={4: \"地表temp_4月\", 5: \"地表temp_5月\", 6: \"地表temp_6月\"})\n",
        "#\n",
        "# print(df_temp)\n",
        "\n",
        "##############################\n",
        "\n",
        "# 1. 定数を設定\n",
        "# 分析対象領域 (Area of Interest)\n",
        "region = ee.Geometry.Rectangle([116.14615, 28.91031, 116.16521, 28.92906])\n",
        "# 対象とする年と月\n",
        "start_year = 2016\n",
        "end_year = 2024\n",
        "months = [4, 5, 6]\n",
        "# ウンカの発育下限温度（基準温度）。文献等を参考に設定するのが望ましい。\n",
        "base_temperature = 12.0 # 佐賀のパラメータを参照\n",
        "\n",
        "# 2. 結果を格納するための空のリストを準備\n",
        "all_results = []\n",
        "\n",
        "# 3. 年と月でループ処理\n",
        "print(f\"積算温度（基準温度: {base_temperature}°C）の計算を開始します...\")\n",
        "for year in range(start_year, end_year + 1):\n",
        "\n",
        "    yearly_data = {'year': year}\n",
        "\n",
        "    for month in months:\n",
        "        # 月の開始日と終了日を定義\n",
        "        start_date = f'{year}-{month:02d}-01'\n",
        "        ee_start_date = ee.Date(start_date)\n",
        "        ee_end_date = ee_start_date.advance(1, 'month')\n",
        "        end_date = ee_end_date.format('YYYY-MM-dd').getInfo()\n",
        "\n",
        "        # その月の日数を取得\n",
        "        days_in_month = ee_end_date.difference(ee_start_date, 'day')\n",
        "\n",
        "        # 指定した月のMODIS画像コレクションを取得\n",
        "        collection = ee.ImageCollection('MODIS/061/MOD11A1').filterDate(start_date, end_date)\n",
        "\n",
        "        # --- ここからが積算温度の計算部分 ---\n",
        "\n",
        "        # 日々の積算温度を計算する関数を定義\n",
        "        def calculate_degree_days(image):\n",
        "            # LSTバンドを選択し、スケール変換と単位変換（ケルビン -> 摂氏）\n",
        "            temp_celsius = image.select('LST_Day_1km').multiply(0.02).subtract(273.15)\n",
        "            # (毎日の気温 - 基準温度) を計算。結果がマイナスなら0にする。\n",
        "            degree_day = temp_celsius.subtract(base_temperature).max(0)\n",
        "            return degree_day\n",
        "\n",
        "        # コレクション内の各画像（各日）に対して上記の関数を適用\n",
        "        daily_degree_days = collection.map(calculate_degree_days)\n",
        "\n",
        "        # 月間の「日平均」積算温度を計算し、その月の日数を掛けて正規化する\n",
        "        monthly_degree_days_image = daily_degree_days.mean().multiply(days_in_month).rename('Degree_Days')\n",
        "\n",
        "        # AOI内の平均値を計算\n",
        "        stats = monthly_degree_days_image.reduceRegion(\n",
        "            reducer=ee.Reducer.mean(),\n",
        "            geometry=region,\n",
        "            scale=1000,\n",
        "            maxPixels=1e9\n",
        "        ).getInfo()\n",
        "\n",
        "        degree_days_value = stats.get('Degree_Days')\n",
        "\n",
        "        column_name = f'積算温度_{month}月'\n",
        "        yearly_data[column_name] = degree_days_value\n",
        "\n",
        "    all_results.append(yearly_data)\n",
        "    print(f\"{year}年の処理が完了しました。\")\n",
        "\n",
        "# 4. リストからpandasデータフレームを作成\n",
        "df_degree_days = pd.DataFrame(all_results)\n",
        "\n",
        "print(\"\\n--- 完成したデータフレーム ---\")\n",
        "print(df_degree_days)\n"
      ],
      "metadata": {
        "id": "fWbmqzsukcU0"
      },
      "execution_count": null,
      "outputs": []
    },
    {
      "cell_type": "markdown",
      "source": [
        "# dfへの統合"
      ],
      "metadata": {
        "id": "M6XwBOgcm9Fe"
      }
    },
    {
      "cell_type": "code",
      "source": [
        "# 正解データdf_damage_ratioをベースにする．\n",
        "df = df_damage_ratio.copy() # 値渡し\n",
        "df.drop([\"被害面積（ha）\", \"被害量（t）\"], axis=1, inplace=True)\n",
        "\n",
        "# yearをキーにdf_ndviとdf_tempをマージ（左側優先）\n",
        "df = df.merge(df_ndvi, on=\"year\", how=\"left\")\n",
        "df = df.merge(df_degree_days, on=\"year\", how=\"left\")\n",
        "\n",
        "df.dropna(inplace=True)\n",
        "df.reset_index()\n",
        "print(\"データ数:\", len(df))\n",
        "df\n"
      ],
      "metadata": {
        "id": "oBIRYns6m-tK"
      },
      "execution_count": null,
      "outputs": []
    },
    {
      "cell_type": "markdown",
      "source": [
        "# 線形回帰"
      ],
      "metadata": {
        "id": "YAsA5OPXKSfc"
      }
    },
    {
      "cell_type": "code",
      "source": [
        "# 説明変数と目的変数を選択\n",
        "X = df[[\"NDVI_4月\", \"NDVI_5月\", \"NDVI_6月\", \"積算温度_4月\", \"積算温度_5月\", \"積算温度_6月\"]].values\n",
        "y = df[\"被害率（%）\"].values # MODIS LST を目的変数にする例\n",
        "\n",
        "# 学習/検証分割\n",
        "X_train, X_test, y_train, y_test = train_test_split(X, y, test_size=0.2, random_state=0)\n",
        "\n",
        "model = LinearRegression()\n",
        "model.fit(X_train, y_train)\n",
        "\n",
        "y_pred = model.predict(X_test)\n",
        "print(\"係数:\", model.coef_)\n",
        "print(\"切片:\", model.intercept_)\n",
        "print(\"MSE:\", mean_squared_error(y_test, y_pred))\n",
        "print(\"R^2:\", r2_score(y_test, y_pred))\n"
      ],
      "metadata": {
        "id": "8E7KO4ONKMt0"
      },
      "execution_count": null,
      "outputs": []
    },
    {
      "cell_type": "markdown",
      "source": [
        "# 散布図（実測 vs 予測）"
      ],
      "metadata": {
        "id": "Mnwa0dCKXpY3"
      }
    },
    {
      "cell_type": "code",
      "source": [
        "# 散布図（実測 vs 予測）\n",
        "plt.scatter(y_test, y_pred, s=10)\n",
        "plt.xlabel(\"被害率の実測値(%)\")\n",
        "plt.ylabel(\"被害率の予測値(%)\")\n",
        "plt.plot([y_test.min(), y_test.max()], [y_test.min(), y_test.max()], 'r--')\n",
        "plt.legend([\"実測値\", \"予測値\"])\n",
        "plt.show()\n"
      ],
      "metadata": {
        "id": "CoQc3MNBXqmE"
      },
      "execution_count": null,
      "outputs": []
    },
    {
      "cell_type": "code",
      "source": [
        "# 横軸にする説明変数を選択\n",
        "x_axis_var_index = 4 # 0 ~ 5\n",
        "index_to_label = {\n",
        "    0: \"NDVI_4月\",\n",
        "    1: \"NDVI_5月\",\n",
        "    2: \"NDVI_6月\",\n",
        "    3: \"積算温度_4月\",\n",
        "    4: \"積算温度_5月\",\n",
        "    5: \"積算温度_6月\"\n",
        "    }\n",
        "\n",
        "# 実測値（y_test）を散布図に\n",
        "plt.scatter(X_test[:, x_axis_var_index], y_test, label=\"Observed 被害率 (%)\", alpha=0.7)\n",
        "\n",
        "# 他の変数は平均値で固定して、回帰直線を作る\n",
        "x_var_range = np.linspace(X_test[:, x_axis_var_index].min(),\n",
        "                          X_test[:, x_axis_var_index].max(), 100)\n",
        "\n",
        "X_fixed = np.zeros((100, X_test.shape[1]))\n",
        "X_fixed[:, x_axis_var_index] = x_var_range\n",
        "\n",
        "# 他の変数に平均値をセット\n",
        "for i in range(X_test.shape[1]):\n",
        "    if i != x_axis_var_index:\n",
        "        X_fixed[:, i] = X_test[:, i].mean()\n",
        "\n",
        "# モデルで予測\n",
        "y_line = model.predict(X_fixed)\n",
        "\n",
        "# 予測直線を描画\n",
        "plt.plot(x_var_range, y_line, color=\"red\", label=\"Regression line\")\n",
        "\n",
        "plt.xlabel(index_to_label[x_axis_var_index]) # 横軸名（選んだ変数に合わせて変更）\n",
        "plt.ylabel(\"被害率（%）\")\n",
        "plt.legend()\n",
        "plt.show()\n"
      ],
      "metadata": {
        "id": "jDvUr0aCY4Fu"
      },
      "execution_count": null,
      "outputs": []
    }
  ]
}