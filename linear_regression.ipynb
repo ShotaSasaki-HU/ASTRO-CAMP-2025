{
  "nbformat": 4,
  "nbformat_minor": 0,
  "metadata": {
    "colab": {
      "provenance": [],
      "toc_visible": true,
      "authorship_tag": "ABX9TyN8DTXrxbT1xF886yjaW/ZQ",
      "include_colab_link": true
    },
    "kernelspec": {
      "name": "python3",
      "display_name": "Python 3"
    },
    "language_info": {
      "name": "python"
    }
  },
  "cells": [
    {
      "cell_type": "markdown",
      "metadata": {
        "id": "view-in-github",
        "colab_type": "text"
      },
      "source": [
        "<a href=\"https://colab.research.google.com/github/ShotaSasaki-HU/ASTRO-CAMP-2025/blob/main/linear_regression.ipynb\" target=\"_parent\"><img src=\"https://colab.research.google.com/assets/colab-badge.svg\" alt=\"Open In Colab\"/></a>"
      ]
    },
    {
      "cell_type": "markdown",
      "source": [
        "# ライブラリ"
      ],
      "metadata": {
        "id": "gtOvDoFpf4Kd"
      }
    },
    {
      "cell_type": "code",
      "source": [
        "!pip install earthengine-api geemap rasterio folium scikit-learn --quiet\n",
        "!pip install rasterio\n",
        "import rasterio\n",
        "import numpy as np\n",
        "import pandas as pd\n",
        "from sklearn.model_selection import train_test_split\n",
        "from sklearn.linear_model import LinearRegression\n",
        "from sklearn.metrics import mean_squared_error, r2_score\n",
        "import matplotlib.pyplot as plt\n",
        "import ee\n",
        "import geemap\n",
        "import geopandas as gpd\n",
        "from shapely.geometry import box\n",
        "import datetime\n",
        "!pip install japanize-matplotlib\n",
        "import japanize_matplotlib"
      ],
      "metadata": {
        "colab": {
          "base_uri": "https://localhost:8080/",
          "height": 525
        },
        "id": "0wRvmEH-f8N_",
        "outputId": "23920b57-3b66-4499-d31a-7b2fecd1afe4"
      },
      "execution_count": null,
      "outputs": [
        {
          "output_type": "display_data",
          "data": {
            "text/plain": [
              "<IPython.core.display.HTML object>"
            ],
            "text/html": [
              "\n",
              "            <style>\n",
              "                .geemap-dark {\n",
              "                    --jp-widgets-color: white;\n",
              "                    --jp-widgets-label-color: white;\n",
              "                    --jp-ui-font-color1: white;\n",
              "                    --jp-layout-color2: #454545;\n",
              "                    background-color: #383838;\n",
              "                }\n",
              "\n",
              "                .geemap-dark .jupyter-button {\n",
              "                    --jp-layout-color3: #383838;\n",
              "                }\n",
              "\n",
              "                .geemap-colab {\n",
              "                    background-color: var(--colab-primary-surface-color, white);\n",
              "                }\n",
              "\n",
              "                .geemap-colab .jupyter-button {\n",
              "                    --jp-layout-color3: var(--colab-primary-surface-color, white);\n",
              "                }\n",
              "            </style>\n",
              "            "
            ]
          },
          "metadata": {}
        },
        {
          "output_type": "stream",
          "name": "stdout",
          "text": [
            "Requirement already satisfied: rasterio in /usr/local/lib/python3.12/dist-packages (1.4.3)\n",
            "Requirement already satisfied: affine in /usr/local/lib/python3.12/dist-packages (from rasterio) (2.4.0)\n",
            "Requirement already satisfied: attrs in /usr/local/lib/python3.12/dist-packages (from rasterio) (25.3.0)\n",
            "Requirement already satisfied: certifi in /usr/local/lib/python3.12/dist-packages (from rasterio) (2025.8.3)\n",
            "Requirement already satisfied: click>=4.0 in /usr/local/lib/python3.12/dist-packages (from rasterio) (8.2.1)\n",
            "Requirement already satisfied: cligj>=0.5 in /usr/local/lib/python3.12/dist-packages (from rasterio) (0.7.2)\n",
            "Requirement already satisfied: numpy>=1.24 in /usr/local/lib/python3.12/dist-packages (from rasterio) (2.0.2)\n",
            "Requirement already satisfied: click-plugins in /usr/local/lib/python3.12/dist-packages (from rasterio) (1.1.1.2)\n",
            "Requirement already satisfied: pyparsing in /usr/local/lib/python3.12/dist-packages (from rasterio) (3.2.3)\n"
          ]
        },
        {
          "output_type": "error",
          "ename": "KeyboardInterrupt",
          "evalue": "",
          "traceback": [
            "\u001b[0;31m---------------------------------------------------------------------------\u001b[0m",
            "\u001b[0;31mKeyboardInterrupt\u001b[0m                         Traceback (most recent call last)",
            "\u001b[0;32m/tmp/ipython-input-2675632208.py\u001b[0m in \u001b[0;36m<cell line: 0>\u001b[0;34m()\u001b[0m\n\u001b[1;32m      1\u001b[0m \u001b[0mget_ipython\u001b[0m\u001b[0;34m(\u001b[0m\u001b[0;34m)\u001b[0m\u001b[0;34m.\u001b[0m\u001b[0msystem\u001b[0m\u001b[0;34m(\u001b[0m\u001b[0;34m'pip install earthengine-api geemap rasterio folium scikit-learn --quiet'\u001b[0m\u001b[0;34m)\u001b[0m\u001b[0;34m\u001b[0m\u001b[0;34m\u001b[0m\u001b[0m\n\u001b[0;32m----> 2\u001b[0;31m \u001b[0mget_ipython\u001b[0m\u001b[0;34m(\u001b[0m\u001b[0;34m)\u001b[0m\u001b[0;34m.\u001b[0m\u001b[0msystem\u001b[0m\u001b[0;34m(\u001b[0m\u001b[0;34m'pip install rasterio'\u001b[0m\u001b[0;34m)\u001b[0m\u001b[0;34m\u001b[0m\u001b[0;34m\u001b[0m\u001b[0m\n\u001b[0m\u001b[1;32m      3\u001b[0m \u001b[0;32mimport\u001b[0m \u001b[0mrasterio\u001b[0m\u001b[0;34m\u001b[0m\u001b[0;34m\u001b[0m\u001b[0m\n\u001b[1;32m      4\u001b[0m \u001b[0;32mimport\u001b[0m \u001b[0mnumpy\u001b[0m \u001b[0;32mas\u001b[0m \u001b[0mnp\u001b[0m\u001b[0;34m\u001b[0m\u001b[0;34m\u001b[0m\u001b[0m\n\u001b[1;32m      5\u001b[0m \u001b[0;32mimport\u001b[0m \u001b[0mpandas\u001b[0m \u001b[0;32mas\u001b[0m \u001b[0mpd\u001b[0m\u001b[0;34m\u001b[0m\u001b[0;34m\u001b[0m\u001b[0m\n",
            "\u001b[0;32m/usr/local/lib/python3.12/dist-packages/google/colab/_shell.py\u001b[0m in \u001b[0;36msystem\u001b[0;34m(self, *args, **kwargs)\u001b[0m\n\u001b[1;32m    150\u001b[0m \u001b[0;34m\u001b[0m\u001b[0m\n\u001b[1;32m    151\u001b[0m     \u001b[0;32mif\u001b[0m \u001b[0mpip_warn\u001b[0m\u001b[0;34m:\u001b[0m\u001b[0;34m\u001b[0m\u001b[0;34m\u001b[0m\u001b[0m\n\u001b[0;32m--> 152\u001b[0;31m       \u001b[0m_pip\u001b[0m\u001b[0;34m.\u001b[0m\u001b[0mprint_previous_import_warning\u001b[0m\u001b[0;34m(\u001b[0m\u001b[0moutput\u001b[0m\u001b[0;34m)\u001b[0m\u001b[0;34m\u001b[0m\u001b[0;34m\u001b[0m\u001b[0m\n\u001b[0m\u001b[1;32m    153\u001b[0m \u001b[0;34m\u001b[0m\u001b[0m\n\u001b[1;32m    154\u001b[0m   \u001b[0;32mdef\u001b[0m \u001b[0m_send_error\u001b[0m\u001b[0;34m(\u001b[0m\u001b[0mself\u001b[0m\u001b[0;34m,\u001b[0m \u001b[0mexc_content\u001b[0m\u001b[0;34m)\u001b[0m\u001b[0;34m:\u001b[0m\u001b[0;34m\u001b[0m\u001b[0;34m\u001b[0m\u001b[0m\n",
            "\u001b[0;32m/usr/local/lib/python3.12/dist-packages/google/colab/_pip.py\u001b[0m in \u001b[0;36mprint_previous_import_warning\u001b[0;34m(output)\u001b[0m\n\u001b[1;32m     54\u001b[0m \u001b[0;32mdef\u001b[0m \u001b[0mprint_previous_import_warning\u001b[0m\u001b[0;34m(\u001b[0m\u001b[0moutput\u001b[0m\u001b[0;34m)\u001b[0m\u001b[0;34m:\u001b[0m\u001b[0;34m\u001b[0m\u001b[0;34m\u001b[0m\u001b[0m\n\u001b[1;32m     55\u001b[0m   \u001b[0;34m\"\"\"Prints a warning about previously imported packages.\"\"\"\u001b[0m\u001b[0;34m\u001b[0m\u001b[0;34m\u001b[0m\u001b[0m\n\u001b[0;32m---> 56\u001b[0;31m   \u001b[0mpackages\u001b[0m \u001b[0;34m=\u001b[0m \u001b[0m_previously_imported_packages\u001b[0m\u001b[0;34m(\u001b[0m\u001b[0moutput\u001b[0m\u001b[0;34m)\u001b[0m\u001b[0;34m\u001b[0m\u001b[0;34m\u001b[0m\u001b[0m\n\u001b[0m\u001b[1;32m     57\u001b[0m   \u001b[0;32mif\u001b[0m \u001b[0mpackages\u001b[0m\u001b[0;34m:\u001b[0m\u001b[0;34m\u001b[0m\u001b[0;34m\u001b[0m\u001b[0m\n\u001b[1;32m     58\u001b[0m     \u001b[0;31m# display a list of packages using the colab-display-data mimetype, which\u001b[0m\u001b[0;34m\u001b[0m\u001b[0;34m\u001b[0m\u001b[0m\n",
            "\u001b[0;32m/usr/local/lib/python3.12/dist-packages/google/colab/_pip.py\u001b[0m in \u001b[0;36m_previously_imported_packages\u001b[0;34m(pip_output)\u001b[0m\n\u001b[1;32m     48\u001b[0m \u001b[0;32mdef\u001b[0m \u001b[0m_previously_imported_packages\u001b[0m\u001b[0;34m(\u001b[0m\u001b[0mpip_output\u001b[0m\u001b[0;34m)\u001b[0m\u001b[0;34m:\u001b[0m\u001b[0;34m\u001b[0m\u001b[0;34m\u001b[0m\u001b[0m\n\u001b[1;32m     49\u001b[0m   \u001b[0;34m\"\"\"List all previously imported packages from a pip install.\"\"\"\u001b[0m\u001b[0;34m\u001b[0m\u001b[0;34m\u001b[0m\u001b[0m\n\u001b[0;32m---> 50\u001b[0;31m   \u001b[0minstalled\u001b[0m \u001b[0;34m=\u001b[0m \u001b[0mset\u001b[0m\u001b[0;34m(\u001b[0m\u001b[0m_extract_toplevel_packages\u001b[0m\u001b[0;34m(\u001b[0m\u001b[0mpip_output\u001b[0m\u001b[0;34m)\u001b[0m\u001b[0;34m)\u001b[0m\u001b[0;34m\u001b[0m\u001b[0;34m\u001b[0m\u001b[0m\n\u001b[0m\u001b[1;32m     51\u001b[0m   \u001b[0;32mreturn\u001b[0m \u001b[0msorted\u001b[0m\u001b[0;34m(\u001b[0m\u001b[0minstalled\u001b[0m\u001b[0;34m.\u001b[0m\u001b[0mintersection\u001b[0m\u001b[0;34m(\u001b[0m\u001b[0mset\u001b[0m\u001b[0;34m(\u001b[0m\u001b[0msys\u001b[0m\u001b[0;34m.\u001b[0m\u001b[0mmodules\u001b[0m\u001b[0;34m)\u001b[0m\u001b[0;34m)\u001b[0m\u001b[0;34m)\u001b[0m\u001b[0;34m\u001b[0m\u001b[0;34m\u001b[0m\u001b[0m\n\u001b[1;32m     52\u001b[0m \u001b[0;34m\u001b[0m\u001b[0m\n",
            "\u001b[0;32m/usr/local/lib/python3.12/dist-packages/google/colab/_pip.py\u001b[0m in \u001b[0;36m_extract_toplevel_packages\u001b[0;34m(pip_output)\u001b[0m\n\u001b[1;32m     37\u001b[0m   \u001b[0;34m\"\"\"Extract the list of toplevel packages associated with a pip install.\"\"\"\u001b[0m\u001b[0;34m\u001b[0m\u001b[0;34m\u001b[0m\u001b[0m\n\u001b[1;32m     38\u001b[0m   \u001b[0mtoplevel\u001b[0m \u001b[0;34m=\u001b[0m \u001b[0mcollections\u001b[0m\u001b[0;34m.\u001b[0m\u001b[0mdefaultdict\u001b[0m\u001b[0;34m(\u001b[0m\u001b[0mset\u001b[0m\u001b[0;34m)\u001b[0m\u001b[0;34m\u001b[0m\u001b[0;34m\u001b[0m\u001b[0m\n\u001b[0;32m---> 39\u001b[0;31m   \u001b[0;32mfor\u001b[0m \u001b[0mm\u001b[0m\u001b[0;34m,\u001b[0m \u001b[0mps\u001b[0m \u001b[0;32min\u001b[0m \u001b[0mimportlib\u001b[0m\u001b[0;34m.\u001b[0m\u001b[0mmetadata\u001b[0m\u001b[0;34m.\u001b[0m\u001b[0mpackages_distributions\u001b[0m\u001b[0;34m(\u001b[0m\u001b[0;34m)\u001b[0m\u001b[0;34m.\u001b[0m\u001b[0mitems\u001b[0m\u001b[0;34m(\u001b[0m\u001b[0;34m)\u001b[0m\u001b[0;34m:\u001b[0m\u001b[0;34m\u001b[0m\u001b[0;34m\u001b[0m\u001b[0m\n\u001b[0m\u001b[1;32m     40\u001b[0m     \u001b[0;32mfor\u001b[0m \u001b[0mp\u001b[0m \u001b[0;32min\u001b[0m \u001b[0mps\u001b[0m\u001b[0;34m:\u001b[0m\u001b[0;34m\u001b[0m\u001b[0;34m\u001b[0m\u001b[0m\n\u001b[1;32m     41\u001b[0m       \u001b[0mtoplevel\u001b[0m\u001b[0;34m[\u001b[0m\u001b[0mp\u001b[0m\u001b[0;34m]\u001b[0m\u001b[0;34m.\u001b[0m\u001b[0madd\u001b[0m\u001b[0;34m(\u001b[0m\u001b[0mm\u001b[0m\u001b[0;34m)\u001b[0m\u001b[0;34m\u001b[0m\u001b[0;34m\u001b[0m\u001b[0m\n",
            "\u001b[0;32m/usr/lib/python3.12/importlib/metadata/__init__.py\u001b[0m in \u001b[0;36mpackages_distributions\u001b[0;34m()\u001b[0m\n\u001b[1;32m    945\u001b[0m     \u001b[0mpkg_to_dist\u001b[0m \u001b[0;34m=\u001b[0m \u001b[0mcollections\u001b[0m\u001b[0;34m.\u001b[0m\u001b[0mdefaultdict\u001b[0m\u001b[0;34m(\u001b[0m\u001b[0mlist\u001b[0m\u001b[0;34m)\u001b[0m\u001b[0;34m\u001b[0m\u001b[0;34m\u001b[0m\u001b[0m\n\u001b[1;32m    946\u001b[0m     \u001b[0;32mfor\u001b[0m \u001b[0mdist\u001b[0m \u001b[0;32min\u001b[0m \u001b[0mdistributions\u001b[0m\u001b[0;34m(\u001b[0m\u001b[0;34m)\u001b[0m\u001b[0;34m:\u001b[0m\u001b[0;34m\u001b[0m\u001b[0;34m\u001b[0m\u001b[0m\n\u001b[0;32m--> 947\u001b[0;31m         \u001b[0;32mfor\u001b[0m \u001b[0mpkg\u001b[0m \u001b[0;32min\u001b[0m \u001b[0m_top_level_declared\u001b[0m\u001b[0;34m(\u001b[0m\u001b[0mdist\u001b[0m\u001b[0;34m)\u001b[0m \u001b[0;32mor\u001b[0m \u001b[0m_top_level_inferred\u001b[0m\u001b[0;34m(\u001b[0m\u001b[0mdist\u001b[0m\u001b[0;34m)\u001b[0m\u001b[0;34m:\u001b[0m\u001b[0;34m\u001b[0m\u001b[0;34m\u001b[0m\u001b[0m\n\u001b[0m\u001b[1;32m    948\u001b[0m             \u001b[0mpkg_to_dist\u001b[0m\u001b[0;34m[\u001b[0m\u001b[0mpkg\u001b[0m\u001b[0;34m]\u001b[0m\u001b[0;34m.\u001b[0m\u001b[0mappend\u001b[0m\u001b[0;34m(\u001b[0m\u001b[0mdist\u001b[0m\u001b[0;34m.\u001b[0m\u001b[0mmetadata\u001b[0m\u001b[0;34m[\u001b[0m\u001b[0;34m'Name'\u001b[0m\u001b[0;34m]\u001b[0m\u001b[0;34m)\u001b[0m\u001b[0;34m\u001b[0m\u001b[0;34m\u001b[0m\u001b[0m\n\u001b[1;32m    949\u001b[0m     \u001b[0;32mreturn\u001b[0m \u001b[0mdict\u001b[0m\u001b[0;34m(\u001b[0m\u001b[0mpkg_to_dist\u001b[0m\u001b[0;34m)\u001b[0m\u001b[0;34m\u001b[0m\u001b[0;34m\u001b[0m\u001b[0m\n",
            "\u001b[0;32m/usr/lib/python3.12/importlib/metadata/__init__.py\u001b[0m in \u001b[0;36m_top_level_inferred\u001b[0;34m(dist)\u001b[0m\n\u001b[1;32m    957\u001b[0m     opt_names = {\n\u001b[1;32m    958\u001b[0m         \u001b[0mf\u001b[0m\u001b[0;34m.\u001b[0m\u001b[0mparts\u001b[0m\u001b[0;34m[\u001b[0m\u001b[0;36m0\u001b[0m\u001b[0;34m]\u001b[0m \u001b[0;32mif\u001b[0m \u001b[0mlen\u001b[0m\u001b[0;34m(\u001b[0m\u001b[0mf\u001b[0m\u001b[0;34m.\u001b[0m\u001b[0mparts\u001b[0m\u001b[0;34m)\u001b[0m \u001b[0;34m>\u001b[0m \u001b[0;36m1\u001b[0m \u001b[0;32melse\u001b[0m \u001b[0minspect\u001b[0m\u001b[0;34m.\u001b[0m\u001b[0mgetmodulename\u001b[0m\u001b[0;34m(\u001b[0m\u001b[0mf\u001b[0m\u001b[0;34m)\u001b[0m\u001b[0;34m\u001b[0m\u001b[0;34m\u001b[0m\u001b[0m\n\u001b[0;32m--> 959\u001b[0;31m         \u001b[0;32mfor\u001b[0m \u001b[0mf\u001b[0m \u001b[0;32min\u001b[0m \u001b[0malways_iterable\u001b[0m\u001b[0;34m(\u001b[0m\u001b[0mdist\u001b[0m\u001b[0;34m.\u001b[0m\u001b[0mfiles\u001b[0m\u001b[0;34m)\u001b[0m\u001b[0;34m\u001b[0m\u001b[0;34m\u001b[0m\u001b[0m\n\u001b[0m\u001b[1;32m    960\u001b[0m     }\n\u001b[1;32m    961\u001b[0m \u001b[0;34m\u001b[0m\u001b[0m\n",
            "\u001b[0;32m/usr/lib/python3.12/importlib/metadata/__init__.py\u001b[0m in \u001b[0;36mfiles\u001b[0;34m(self)\u001b[0m\n\u001b[1;32m    498\u001b[0m             \u001b[0;32mreturn\u001b[0m \u001b[0mlist\u001b[0m\u001b[0;34m(\u001b[0m\u001b[0mfilter\u001b[0m\u001b[0;34m(\u001b[0m\u001b[0;32mlambda\u001b[0m \u001b[0mpath\u001b[0m\u001b[0;34m:\u001b[0m \u001b[0mpath\u001b[0m\u001b[0;34m.\u001b[0m\u001b[0mlocate\u001b[0m\u001b[0;34m(\u001b[0m\u001b[0;34m)\u001b[0m\u001b[0;34m.\u001b[0m\u001b[0mexists\u001b[0m\u001b[0;34m(\u001b[0m\u001b[0;34m)\u001b[0m\u001b[0;34m,\u001b[0m \u001b[0mpackage_paths\u001b[0m\u001b[0;34m)\u001b[0m\u001b[0;34m)\u001b[0m\u001b[0;34m\u001b[0m\u001b[0;34m\u001b[0m\u001b[0m\n\u001b[1;32m    499\u001b[0m \u001b[0;34m\u001b[0m\u001b[0m\n\u001b[0;32m--> 500\u001b[0;31m         return skip_missing_files(\n\u001b[0m\u001b[1;32m    501\u001b[0m             make_files(\n\u001b[1;32m    502\u001b[0m                 \u001b[0mself\u001b[0m\u001b[0;34m.\u001b[0m\u001b[0m_read_files_distinfo\u001b[0m\u001b[0;34m(\u001b[0m\u001b[0;34m)\u001b[0m\u001b[0;34m\u001b[0m\u001b[0;34m\u001b[0m\u001b[0m\n",
            "\u001b[0;32m/usr/lib/python3.12/importlib/metadata/_functools.py\u001b[0m in \u001b[0;36mwrapper\u001b[0;34m(param, *args, **kwargs)\u001b[0m\n\u001b[1;32m    100\u001b[0m     \u001b[0;32mdef\u001b[0m \u001b[0mwrapper\u001b[0m\u001b[0;34m(\u001b[0m\u001b[0mparam\u001b[0m\u001b[0;34m,\u001b[0m \u001b[0;34m*\u001b[0m\u001b[0margs\u001b[0m\u001b[0;34m,\u001b[0m \u001b[0;34m**\u001b[0m\u001b[0mkwargs\u001b[0m\u001b[0;34m)\u001b[0m\u001b[0;34m:\u001b[0m\u001b[0;34m\u001b[0m\u001b[0;34m\u001b[0m\u001b[0m\n\u001b[1;32m    101\u001b[0m         \u001b[0;32mif\u001b[0m \u001b[0mparam\u001b[0m \u001b[0;32mis\u001b[0m \u001b[0;32mnot\u001b[0m \u001b[0;32mNone\u001b[0m\u001b[0;34m:\u001b[0m\u001b[0;34m\u001b[0m\u001b[0;34m\u001b[0m\u001b[0m\n\u001b[0;32m--> 102\u001b[0;31m             \u001b[0;32mreturn\u001b[0m \u001b[0mfunc\u001b[0m\u001b[0;34m(\u001b[0m\u001b[0mparam\u001b[0m\u001b[0;34m,\u001b[0m \u001b[0;34m*\u001b[0m\u001b[0margs\u001b[0m\u001b[0;34m,\u001b[0m \u001b[0;34m**\u001b[0m\u001b[0mkwargs\u001b[0m\u001b[0;34m)\u001b[0m\u001b[0;34m\u001b[0m\u001b[0;34m\u001b[0m\u001b[0m\n\u001b[0m\u001b[1;32m    103\u001b[0m \u001b[0;34m\u001b[0m\u001b[0m\n\u001b[1;32m    104\u001b[0m     \u001b[0;32mreturn\u001b[0m \u001b[0mwrapper\u001b[0m\u001b[0;34m\u001b[0m\u001b[0;34m\u001b[0m\u001b[0m\n",
            "\u001b[0;32m/usr/lib/python3.12/importlib/metadata/__init__.py\u001b[0m in \u001b[0;36mskip_missing_files\u001b[0;34m(package_paths)\u001b[0m\n\u001b[1;32m    496\u001b[0m         \u001b[0;34m@\u001b[0m\u001b[0mpass_none\u001b[0m\u001b[0;34m\u001b[0m\u001b[0;34m\u001b[0m\u001b[0m\n\u001b[1;32m    497\u001b[0m         \u001b[0;32mdef\u001b[0m \u001b[0mskip_missing_files\u001b[0m\u001b[0;34m(\u001b[0m\u001b[0mpackage_paths\u001b[0m\u001b[0;34m)\u001b[0m\u001b[0;34m:\u001b[0m\u001b[0;34m\u001b[0m\u001b[0;34m\u001b[0m\u001b[0m\n\u001b[0;32m--> 498\u001b[0;31m             \u001b[0;32mreturn\u001b[0m \u001b[0mlist\u001b[0m\u001b[0;34m(\u001b[0m\u001b[0mfilter\u001b[0m\u001b[0;34m(\u001b[0m\u001b[0;32mlambda\u001b[0m \u001b[0mpath\u001b[0m\u001b[0;34m:\u001b[0m \u001b[0mpath\u001b[0m\u001b[0;34m.\u001b[0m\u001b[0mlocate\u001b[0m\u001b[0;34m(\u001b[0m\u001b[0;34m)\u001b[0m\u001b[0;34m.\u001b[0m\u001b[0mexists\u001b[0m\u001b[0;34m(\u001b[0m\u001b[0;34m)\u001b[0m\u001b[0;34m,\u001b[0m \u001b[0mpackage_paths\u001b[0m\u001b[0;34m)\u001b[0m\u001b[0;34m)\u001b[0m\u001b[0;34m\u001b[0m\u001b[0;34m\u001b[0m\u001b[0m\n\u001b[0m\u001b[1;32m    499\u001b[0m \u001b[0;34m\u001b[0m\u001b[0m\n\u001b[1;32m    500\u001b[0m         return skip_missing_files(\n",
            "\u001b[0;32m/usr/lib/python3.12/importlib/metadata/__init__.py\u001b[0m in \u001b[0;36m<lambda>\u001b[0;34m(path)\u001b[0m\n\u001b[1;32m    496\u001b[0m         \u001b[0;34m@\u001b[0m\u001b[0mpass_none\u001b[0m\u001b[0;34m\u001b[0m\u001b[0;34m\u001b[0m\u001b[0m\n\u001b[1;32m    497\u001b[0m         \u001b[0;32mdef\u001b[0m \u001b[0mskip_missing_files\u001b[0m\u001b[0;34m(\u001b[0m\u001b[0mpackage_paths\u001b[0m\u001b[0;34m)\u001b[0m\u001b[0;34m:\u001b[0m\u001b[0;34m\u001b[0m\u001b[0;34m\u001b[0m\u001b[0m\n\u001b[0;32m--> 498\u001b[0;31m             \u001b[0;32mreturn\u001b[0m \u001b[0mlist\u001b[0m\u001b[0;34m(\u001b[0m\u001b[0mfilter\u001b[0m\u001b[0;34m(\u001b[0m\u001b[0;32mlambda\u001b[0m \u001b[0mpath\u001b[0m\u001b[0;34m:\u001b[0m \u001b[0mpath\u001b[0m\u001b[0;34m.\u001b[0m\u001b[0mlocate\u001b[0m\u001b[0;34m(\u001b[0m\u001b[0;34m)\u001b[0m\u001b[0;34m.\u001b[0m\u001b[0mexists\u001b[0m\u001b[0;34m(\u001b[0m\u001b[0;34m)\u001b[0m\u001b[0;34m,\u001b[0m \u001b[0mpackage_paths\u001b[0m\u001b[0;34m)\u001b[0m\u001b[0;34m)\u001b[0m\u001b[0;34m\u001b[0m\u001b[0;34m\u001b[0m\u001b[0m\n\u001b[0m\u001b[1;32m    499\u001b[0m \u001b[0;34m\u001b[0m\u001b[0m\n\u001b[1;32m    500\u001b[0m         return skip_missing_files(\n",
            "\u001b[0;31mKeyboardInterrupt\u001b[0m: "
          ]
        }
      ]
    },
    {
      "cell_type": "markdown",
      "source": [
        "# GEEの認証"
      ],
      "metadata": {
        "id": "4QSOMqFsLl_L"
      }
    },
    {
      "cell_type": "code",
      "source": [
        "ee.Authenticate() # Colabではブラウザで認証を行う\n",
        "ee.Initialize(project='astro-camp')"
      ],
      "metadata": {
        "id": "UM02qaVDLnYu"
      },
      "execution_count": null,
      "outputs": []
    },
    {
      "cell_type": "markdown",
      "source": [
        "# Google Drive"
      ],
      "metadata": {
        "id": "9fPG5LlNf6Wq"
      }
    },
    {
      "cell_type": "code",
      "execution_count": null,
      "metadata": {
        "id": "I71jOLLmfoT1"
      },
      "outputs": [],
      "source": [
        "# Google Driveへのアクセスの認証\n",
        "from google.colab import drive\n",
        "drive.mount('/content/drive')"
      ]
    },
    {
      "cell_type": "markdown",
      "source": [
        "# 被害率（正解データ）のdf_damage_ratio"
      ],
      "metadata": {
        "id": "nFLXTuJigmH7"
      }
    },
    {
      "cell_type": "code",
      "source": [
        "prefectures = [\"福岡\", \"佐賀\", \"長崎\", \"大分\", \"熊本\", \"宮崎\", \"鹿児島\"]\n",
        "\n",
        "# 初期データフレーム\n",
        "cols = [\"都道府県\", \"year\", \"被害面積（ha）\", \"被害量（t）\", \"被害率（%）\"]\n",
        "df_damage_ratio = pd.DataFrame(columns=cols)\n",
        "\n",
        "for prefecture in prefectures:\n",
        "    # 2016\n",
        "    year = 2016\n",
        "    path_csv = f\"/content/drive/MyDrive/アストロキャンプ/試製/水稲の被害面積及び被害量（全国農業地域別・都道府県別）/{year}_水稲の被害面積及び被害量（全国農業地域別・都道府県別）.csv\"\n",
        "    df = pd.read_csv(path_csv, encoding=\"shift-jis\")\n",
        "\n",
        "    target_col = [col for col in df.columns if \"全国農業地域\" in col][0] # 「全国農業地域」を含む列名を抽出\n",
        "    df = df[df[target_col].str.contains(prefecture)]\n",
        "\n",
        "    target_col = [col for col in df.columns if \"項目\" in col][0]\n",
        "    df_damaged_area = df[df[target_col] == \"虫害_ウンカ_被害面積\"]\n",
        "    df_damaged_amount = df[df[target_col] == \"虫害_ウンカ_被害量\"]\n",
        "    df_damaged_ratio = df[df[target_col] == \"虫害_ウンカ_被害率\"]\n",
        "\n",
        "    df_damage_ratio.loc[len(df_damage_ratio)] = [\n",
        "        prefecture,\n",
        "        year,\n",
        "        float(df_damaged_area[\"value\"].iloc[0]),\n",
        "        float(df_damaged_amount[\"value\"].iloc[0]),\n",
        "        float(df_damaged_ratio[\"value\"].iloc[0])\n",
        "        ]\n",
        "\n",
        "    # 2017\n",
        "    year = 2017\n",
        "    path_csv = f\"/content/drive/MyDrive/アストロキャンプ/試製/水稲の被害面積及び被害量（全国農業地域別・都道府県別）/{year}_水稲の被害面積及び被害量（全国農業地域別・都道府県別）.csv\"\n",
        "    df = pd.read_csv(path_csv, encoding=\"shift-jis\")\n",
        "\n",
        "    target_col = [col for col in df.columns if \"全国農業地域\" in col][0] # 「全国農業地域」を含む列名を抽出\n",
        "    df = df[df[target_col].str.contains(prefecture)]\n",
        "\n",
        "    df = df[df[\"平成29水稲被害面積被害量\"] == \"虫害_ウンカ\"]\n",
        "    df_damaged_area = df[df[\"平成29水稲被害率被害量\"] == \"被害面積\"]\n",
        "    df_damaged_amount = df[df[\"平成29水稲被害率被害量\"] == \"被害量\"]\n",
        "    df_damaged_ratio = df[df[\"平成29水稲被害率被害量\"] == \"被害率_実数\"]\n",
        "\n",
        "    df_damage_ratio.loc[len(df_damage_ratio)] = [\n",
        "        prefecture,\n",
        "        year,\n",
        "        float(df_damaged_area[\"value\"].iloc[0]),\n",
        "        float(df_damaged_amount[\"value\"].iloc[0]),\n",
        "        float(df_damaged_ratio[\"value\"].iloc[0])\n",
        "        ]\n",
        "\n",
        "    # 2018\n",
        "    year = 2018\n",
        "    path_csv = f\"/content/drive/MyDrive/アストロキャンプ/試製/水稲の被害面積及び被害量（全国農業地域別・都道府県別）/{year}_水稲の被害面積及び被害量（全国農業地域別・都道府県別）.csv\"\n",
        "    df = pd.read_csv(path_csv, encoding=\"shift-jis\")\n",
        "\n",
        "    target_col = [col for col in df.columns if \"全国農業地域\" in col][0] # 「全国農業地域」を含む列名を抽出\n",
        "    df = df[df[target_col].str.contains(prefecture)]\n",
        "\n",
        "    df = df[df[\"(F002-30-1-012)被害量\"] == \"虫害_ウンカ\"]\n",
        "    df_damaged_area = df[df[\"(F002-30-1-011)被害項目\"] == \"被害面積\"]\n",
        "    df_damaged_amount = df[df[\"(F002-30-1-011)被害項目\"] == \"被害量\"]\n",
        "    df_damaged_ratio = df[df[\"(F002-30-1-011)被害項目\"] == \"被害率_実数\"]\n",
        "\n",
        "    df_damage_ratio.loc[len(df_damage_ratio)] = [\n",
        "        prefecture,\n",
        "        year,\n",
        "        float(df_damaged_area[\"value\"].iloc[0]),\n",
        "        float(df_damaged_amount[\"value\"].iloc[0]),\n",
        "        float(df_damaged_ratio[\"value\"].iloc[0])\n",
        "        ]\n",
        "\n",
        "    # 2019\n",
        "    year = 2019\n",
        "    path_csv = f\"/content/drive/MyDrive/アストロキャンプ/試製/水稲の被害面積及び被害量（全国農業地域別・都道府県別）/{year}_水稲の被害面積及び被害量（全国農業地域別・都道府県別）.csv\"\n",
        "    df = pd.read_csv(path_csv, encoding=\"shift-jis\")\n",
        "\n",
        "    target_col = [col for col in df.columns if \"全国農業地域\" in col][0] # 「全国農業地域」を含む列名を抽出\n",
        "    df = df[df[target_col].str.contains(prefecture)]\n",
        "\n",
        "    df = df[df[\"被害原因\"] == \"虫害_ウンカ\"]\n",
        "    df_damaged_area = df[df[\"表章項目\"] == \"被害面積\"]\n",
        "    df_damaged_amount = df[df[\"表章項目\"] == \"被害量\"]\n",
        "    df_damaged_ratio = df[df[\"表章項目\"] == \"被害率_実数\"]\n",
        "\n",
        "    df_damage_ratio.loc[len(df_damage_ratio)] = [\n",
        "        prefecture,\n",
        "        year,\n",
        "        float(df_damaged_area[\"value\"].iloc[0]),\n",
        "        float(df_damaged_amount[\"value\"].iloc[0]),\n",
        "        float(df_damaged_ratio[\"value\"].iloc[0])\n",
        "        ]\n",
        "\n",
        "    # 2020 ~ 2023\n",
        "    for year in range(2020, 2023+1):\n",
        "        path_csv = f\"/content/drive/MyDrive/アストロキャンプ/試製/水稲の被害面積及び被害量（全国農業地域別・都道府県別）/{year}_水稲の被害面積及び被害量（全国農業地域別・都道府県別）.csv\"\n",
        "        df = pd.read_csv(path_csv, encoding=\"shift-jis\")\n",
        "\n",
        "        target_col = [col for col in df.columns if \"全国農業地域\" in col][0] # 「全国農業地域」を含む列名を抽出\n",
        "        df = df[df[target_col].str.contains(prefecture)]\n",
        "\n",
        "        target_col = [col for col in df.columns if \"被害面積及び被害量\" in col][0]\n",
        "        df_damaged_area = df[df[target_col] == \"虫害_ウンカ_被害面積\"]\n",
        "        df_damaged_amount = df[df[target_col] == \"虫害_ウンカ_被害量\"]\n",
        "        df_damaged_ratio = df[df[target_col] == \"虫害_ウンカ_被害率_実数\"]\n",
        "\n",
        "        df_damage_ratio.loc[len(df_damage_ratio)] = [\n",
        "            prefecture,\n",
        "            year,\n",
        "            float(df_damaged_area[\"value\"].iloc[0]),\n",
        "            float(df_damaged_amount[\"value\"].iloc[0]),\n",
        "            float(df_damaged_ratio[\"value\"].iloc[0])\n",
        "            ]\n",
        "\n",
        "print(df_damage_ratio)\n"
      ],
      "metadata": {
        "id": "-RYKFZMxgpza"
      },
      "execution_count": null,
      "outputs": []
    },
    {
      "cell_type": "markdown",
      "source": [
        "# NDVIのdf_ndvi"
      ],
      "metadata": {
        "id": "orRKhSDcf_dU"
      }
    },
    {
      "cell_type": "code",
      "source": [
        "trio_per_year = {\n",
        "    2016: [\"2016-03-28\", \"2016-04-30\", \"2016-06-16\"],\n",
        "    2017: [\"2017-04-02\", \"2017-05-05\", \"2017-07-14\"],\n",
        "    2018: [\"2018-03-28\", \"2018-04-25\", \"2018-06-16\"],\n",
        "    2019: [\"2019-04-07\", \"2019-05-10\", \"2019-06-14\"],\n",
        "    2020: [\"2020-04-16\", \"2020-05-19\", \"2020-06-15\"],\n",
        "    2021: [\"2021-04-09\", \"2021-05-14\", \"2021-06-05\"],\n",
        "    2022: [\"2022-04-11\", \"2022-05-16\", \"2022-06-25\"],\n",
        "    2023: [\"2023-04-11\", \"2023-05-09\", \"2023-06-10\"],\n",
        "    2024: [\"2024-03-29\", \"2024-05-08\", \"2024-05-28\"],\n",
        "    2025: [\"2025-04-15\", \"2025-05-13\", \"2025-06-17\"]\n",
        "}\n",
        "\n",
        "# 初期データフレーム\n",
        "cols = [\"year\", \"NDVI_4月\", \"NDVI_5月\", \"NDVI_6月\"]\n",
        "df_ndvi = pd.DataFrame(columns=cols)\n",
        "\n",
        "for year in trio_per_year.keys():\n",
        "    trio = trio_per_year[year]\n",
        "\n",
        "    ndvi_means = []\n",
        "    for date in trio:\n",
        "        file_path = f\"/content/drive/MyDrive/アストロキャンプ/試製/data/{date}.tif\"\n",
        "\n",
        "        # GeoTIFFを開く\n",
        "        with rasterio.open(file_path) as src:\n",
        "            # バンド数\n",
        "            # print(f\"バンド数: {src.count}\")\n",
        "            # サイズ\n",
        "            # print(f\"width: {src.width}, height: {src.height}\")\n",
        "            # 緯度経度の情報\n",
        "            # print(src.crs)\n",
        "            # print(src.descriptions)\n",
        "\n",
        "            blue = src.read(4, masked=True)\n",
        "            green = src.read(3, masked=True)\n",
        "            red = src.read(2, masked=True)\n",
        "            nir = src.read(1, masked=True)\n",
        "            scl = src.read(5, masked=True)\n",
        "\n",
        "        # NDVIを計算（浮動小数点にキャスト）\n",
        "        red = red.astype(np.float32)\n",
        "        nir = nir.astype(np.float32)\n",
        "        ndvi = (nir - red) / (nir + red + 1e-6) # 0除算対策あり\n",
        "\n",
        "        # sclの値が3, 8, 9のいずれかであるかを示すマスクを作成\n",
        "        # np.isin()は、sclの各要素がリスト内の値と一致するかを調べる\n",
        "        cloud_values = [3, 8, 9]\n",
        "        cloud_mask = np.isin(scl, cloud_values)\n",
        "\n",
        "        # clear_mask は cloud_mask の反対 (雲でない場所がTrue)\n",
        "        clear_mask = ~cloud_mask\n",
        "\n",
        "        # clear_maskを使ってNDVIから雲に該当するピクセルを除外（NaNにする）\n",
        "        ndvi = np.where(clear_mask == 1, ndvi, np.nan)\n",
        "\n",
        "        ndvi_means.append(np.nanmean(ndvi))\n",
        "\n",
        "    df_ndvi.loc[len(df_ndvi)] = [\n",
        "        year,\n",
        "        ndvi_means[0],\n",
        "        ndvi_means[1],\n",
        "        ndvi_means[2]\n",
        "    ]\n",
        "\n",
        "print(df_ndvi)\n"
      ],
      "metadata": {
        "id": "Swi6sfxhf996"
      },
      "execution_count": null,
      "outputs": []
    },
    {
      "cell_type": "markdown",
      "source": [
        "# 地表面温度のdf_temp"
      ],
      "metadata": {
        "id": "4hqTd1FRkaQ7"
      }
    },
    {
      "cell_type": "code",
      "source": [
        "# df_temp = pd.read_csv(\"/content/drive/MyDrive/アストロキャンプ/試製/data/ground_surface_temperature.csv\", index_col=0)\n",
        "#\n",
        "# # 文字列からdatetimeに変換\n",
        "# df_temp[\"date\"] = pd.to_datetime(df_temp[\"date\"])\n",
        "# # 年を文字列で取り出して新しい列を追加\n",
        "# df_temp[\"year\"] = df_temp[\"date\"].dt.year.astype(\"int64\")\n",
        "#\n",
        "# df_temp.drop([\"date\", \"standard_deviation\", \"total_pixel\", \"valid_pixel\"], axis=1, inplace=True)\n",
        "#\n",
        "# df_temp = df_temp.pivot(index=\"year\", columns=\"month\", values=\"average\")\n",
        "# df_temp = df_temp.reset_index()\n",
        "# df_temp = df_temp.rename(columns={4: \"地表temp_4月\", 5: \"地表temp_5月\", 6: \"地表temp_6月\"})\n",
        "#\n",
        "# print(df_temp)\n",
        "\n",
        "##############################\n",
        "\n",
        "# 1. 定数を設定\n",
        "# 分析対象領域 (Area of Interest)\n",
        "region = ee.Geometry.Rectangle([116.14615, 28.91031, 116.16521, 28.92906])\n",
        "# 対象とする年と月\n",
        "start_year = 2016\n",
        "end_year = 2024\n",
        "months = [4, 5, 6]\n",
        "# ウンカの発育下限温度（基準温度）。文献等を参考に設定するのが望ましい。\n",
        "base_temperature = 12.0 # 佐賀のパラメータを参照\n",
        "\n",
        "# 2. 結果を格納するための空のリストを準備\n",
        "all_results = []\n",
        "\n",
        "# 3. 年と月でループ処理\n",
        "print(f\"積算温度（基準温度: {base_temperature}°C）の計算を開始します...\")\n",
        "for year in range(start_year, end_year + 1):\n",
        "\n",
        "    yearly_data = {'year': year}\n",
        "\n",
        "    for month in months:\n",
        "        # 月の開始日と終了日を定義\n",
        "        start_date = f'{year}-{month:02d}-01'\n",
        "        ee_start_date = ee.Date(start_date)\n",
        "        ee_end_date = ee_start_date.advance(1, 'month')\n",
        "        end_date = ee_end_date.format('YYYY-MM-dd').getInfo()\n",
        "\n",
        "        # その月の日数を取得\n",
        "        days_in_month = ee_end_date.difference(ee_start_date, 'day')\n",
        "\n",
        "        # 指定した月のMODIS画像コレクションを取得\n",
        "        collection = ee.ImageCollection('MODIS/061/MOD11A1').filterDate(start_date, end_date)\n",
        "\n",
        "        # --- ここからが積算温度の計算部分 ---\n",
        "\n",
        "        # 日々の積算温度を計算する関数を定義\n",
        "        def calculate_degree_days(image):\n",
        "            # LSTバンドを選択し、スケール変換と単位変換（ケルビン -> 摂氏）\n",
        "            temp_celsius = image.select('LST_Day_1km').multiply(0.02).subtract(273.15)\n",
        "            # (毎日の気温 - 基準温度) を計算。結果がマイナスなら0にする。\n",
        "            degree_day = temp_celsius.subtract(base_temperature).max(0)\n",
        "            return degree_day\n",
        "\n",
        "        # コレクション内の各画像（各日）に対して上記の関数を適用\n",
        "        daily_degree_days = collection.map(calculate_degree_days)\n",
        "\n",
        "        # 月間の「日平均」積算温度を計算し、その月の日数を掛けて正規化する\n",
        "        monthly_degree_days_image = daily_degree_days.mean().multiply(days_in_month).rename('Degree_Days')\n",
        "\n",
        "        # AOI内の平均値を計算\n",
        "        stats = monthly_degree_days_image.reduceRegion(\n",
        "            reducer=ee.Reducer.mean(),\n",
        "            geometry=region,\n",
        "            scale=1000,\n",
        "            maxPixels=1e9\n",
        "        ).getInfo()\n",
        "\n",
        "        degree_days_value = stats.get('Degree_Days')\n",
        "\n",
        "        column_name = f'積算温度_{month}月'\n",
        "        yearly_data[column_name] = degree_days_value\n",
        "\n",
        "    all_results.append(yearly_data)\n",
        "    print(f\"{year}年の処理が完了しました。\")\n",
        "\n",
        "# 4. リストからpandasデータフレームを作成\n",
        "df_degree_days = pd.DataFrame(all_results)\n",
        "\n",
        "print(\"\\n--- 完成したデータフレーム ---\")\n",
        "print(df_degree_days)\n"
      ],
      "metadata": {
        "id": "fWbmqzsukcU0"
      },
      "execution_count": null,
      "outputs": []
    },
    {
      "cell_type": "markdown",
      "source": [
        "# dfへの統合"
      ],
      "metadata": {
        "id": "M6XwBOgcm9Fe"
      }
    },
    {
      "cell_type": "code",
      "source": [
        "# 正解データdf_damage_ratioをベースにする．\n",
        "df = df_damage_ratio.copy() # 値渡し\n",
        "df.drop([\"被害面積（ha）\", \"被害量（t）\"], axis=1, inplace=True)\n",
        "\n",
        "# yearをキーにdf_ndviとdf_tempをマージ（左側優先）\n",
        "df = df.merge(df_ndvi, on=\"year\", how=\"left\")\n",
        "df = df.merge(df_degree_days, on=\"year\", how=\"left\")\n",
        "\n",
        "df.dropna(inplace=True)\n",
        "df.reset_index()\n",
        "print(\"データ数:\", len(df))\n",
        "df\n"
      ],
      "metadata": {
        "id": "oBIRYns6m-tK"
      },
      "execution_count": null,
      "outputs": []
    },
    {
      "cell_type": "markdown",
      "source": [
        "# 線形回帰"
      ],
      "metadata": {
        "id": "YAsA5OPXKSfc"
      }
    },
    {
      "cell_type": "code",
      "source": [
        "# 説明変数と目的変数を選択\n",
        "X = df[[\"NDVI_4月\", \"NDVI_5月\", \"NDVI_6月\", \"積算温度_4月\", \"積算温度_5月\", \"積算温度_6月\"]].values\n",
        "y = df[\"被害率（%）\"].values # MODIS LST を目的変数にする例\n",
        "\n",
        "# 学習/検証分割\n",
        "X_train, X_test, y_train, y_test = train_test_split(X, y, test_size=0.2, random_state=0)\n",
        "\n",
        "model = LinearRegression()\n",
        "model.fit(X_train, y_train)\n",
        "\n",
        "y_pred = model.predict(X_test)\n",
        "print(\"係数:\", model.coef_)\n",
        "print(\"切片:\", model.intercept_)\n",
        "print(\"MSE:\", mean_squared_error(y_test, y_pred))\n",
        "print(\"R^2:\", r2_score(y_test, y_pred))\n"
      ],
      "metadata": {
        "id": "8E7KO4ONKMt0"
      },
      "execution_count": null,
      "outputs": []
    },
    {
      "cell_type": "markdown",
      "source": [
        "# 散布図（実測 vs 予測）"
      ],
      "metadata": {
        "id": "Mnwa0dCKXpY3"
      }
    },
    {
      "cell_type": "code",
      "source": [
        "# 散布図（実測 vs 予測）\n",
        "plt.scatter(y_test, y_pred, s=10)\n",
        "plt.xlabel(\"被害率の実測値(%)\")\n",
        "plt.ylabel(\"被害率の予測値(%)\")\n",
        "plt.plot([y_test.min(), y_test.max()], [y_test.min(), y_test.max()], 'r--')\n",
        "plt.legend([\"実測値\", \"予測値\"])\n",
        "plt.show()\n"
      ],
      "metadata": {
        "id": "CoQc3MNBXqmE"
      },
      "execution_count": null,
      "outputs": []
    },
    {
      "cell_type": "code",
      "source": [
        "# 横軸にする説明変数を選択\n",
        "x_axis_var_index = 4 # 0 ~ 5\n",
        "index_to_label = {\n",
        "    0: \"NDVI_4月\",\n",
        "    1: \"NDVI_5月\",\n",
        "    2: \"NDVI_6月\",\n",
        "    3: \"積算温度_4月\",\n",
        "    4: \"積算温度_5月\",\n",
        "    5: \"積算温度_6月\"\n",
        "    }\n",
        "\n",
        "# 実測値（y_test）を散布図に\n",
        "plt.scatter(X_test[:, x_axis_var_index], y_test, label=\"Observed 被害率 (%)\", alpha=0.7)\n",
        "\n",
        "# 他の変数は平均値で固定して、回帰直線を作る\n",
        "x_var_range = np.linspace(X_test[:, x_axis_var_index].min(),\n",
        "                          X_test[:, x_axis_var_index].max(), 100)\n",
        "\n",
        "X_fixed = np.zeros((100, X_test.shape[1]))\n",
        "X_fixed[:, x_axis_var_index] = x_var_range\n",
        "\n",
        "# 他の変数に平均値をセット\n",
        "for i in range(X_test.shape[1]):\n",
        "    if i != x_axis_var_index:\n",
        "        X_fixed[:, i] = X_test[:, i].mean()\n",
        "\n",
        "# モデルで予測\n",
        "y_line = model.predict(X_fixed)\n",
        "\n",
        "# 予測直線を描画\n",
        "plt.plot(x_var_range, y_line, color=\"red\", label=\"Regression line\")\n",
        "\n",
        "plt.xlabel(index_to_label[x_axis_var_index]) # 横軸名（選んだ変数に合わせて変更）\n",
        "plt.ylabel(\"被害率（%）\")\n",
        "plt.legend()\n",
        "plt.show()\n"
      ],
      "metadata": {
        "id": "jDvUr0aCY4Fu"
      },
      "execution_count": null,
      "outputs": []
    }
  ]
}